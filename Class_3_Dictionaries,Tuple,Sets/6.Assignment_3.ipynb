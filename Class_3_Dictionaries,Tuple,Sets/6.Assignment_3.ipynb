{
 "cells": [
  {
   "cell_type": "markdown",
   "id": "86463b50",
   "metadata": {},
   "source": [
    "# 1- write a function to find the median of the numbers in a list of numbers unsorted. "
   ]
  },
  {
   "cell_type": "code",
   "execution_count": 20,
   "metadata": {},
   "outputs": [],
   "source": [
    "def median_list(l):\n",
    "    new_list = sorted(l)\n",
    "    div = len(new_list) // 2\n",
    "    if len(new_list) % 2 == 0:\n",
    "        med = (new_list[div-1] + new_list[div])/2\n",
    "        return med\n",
    "    else:\n",
    "        med = new_list[div]\n",
    "        return med"
   ]
  },
  {
   "cell_type": "code",
   "execution_count": null,
   "id": "cd8947f3",
   "metadata": {},
   "outputs": [
    {
     "data": {
      "text/plain": [
       "5.5"
      ]
     },
     "execution_count": 22,
     "metadata": {},
     "output_type": "execute_result"
    }
   ],
   "source": [
    "# Check with odd:\n",
    "a = [1,2,3,5,8,6,9,7]\n",
    "median_list(a)\n"
   ]
  },
  {
   "cell_type": "code",
   "execution_count": null,
   "id": "5235a462",
   "metadata": {},
   "outputs": [
    {
     "data": {
      "text/plain": [
       "6"
      ]
     },
     "execution_count": 23,
     "metadata": {},
     "output_type": "execute_result"
    }
   ],
   "source": [
    "# Check with even:\n",
    "a = [1,2,3,5,8,6,9,7,11]\n",
    "median_list(a)"
   ]
  },
  {
   "cell_type": "markdown",
   "id": "adb795bb",
   "metadata": {},
   "source": [
    "# 2- from a list of numbers create 2 list , one containing only the even numbers and other only the odd numbers"
   ]
  },
  {
   "cell_type": "code",
   "execution_count": 30,
   "id": "df7ea0a0",
   "metadata": {},
   "outputs": [],
   "source": [
    "a = [1,2,3,5,8,6,9,7,11]\n",
    "lnth = len(a )+1\n",
    "\n",
    "even_list = [a[i] for i in range(len(a)) if a[i]%2 == 0]\n",
    "odd_list = [a[i] for  i in range(len(a)) if a[i]%2 != 0]"
   ]
  },
  {
   "cell_type": "code",
   "execution_count": 31,
   "id": "fbab4b30",
   "metadata": {},
   "outputs": [
    {
     "data": {
      "text/plain": [
       "[2, 8, 6]"
      ]
     },
     "execution_count": 31,
     "metadata": {},
     "output_type": "execute_result"
    }
   ],
   "source": [
    "even_list"
   ]
  },
  {
   "cell_type": "code",
   "execution_count": 32,
   "id": "cb1552a1",
   "metadata": {},
   "outputs": [
    {
     "data": {
      "text/plain": [
       "[1, 3, 5, 9, 7, 11]"
      ]
     },
     "execution_count": 32,
     "metadata": {},
     "output_type": "execute_result"
    }
   ],
   "source": [
    "odd_list"
   ]
  },
  {
   "cell_type": "markdown",
   "id": "aa6194cf",
   "metadata": {},
   "source": [
    "## 3- create a dictionary to store following attributes of CSK \n",
    "key \"CSK\" ; attributes : team full name , captain , playing 11 for each match(name of players), oppenont name (assume there are 3 matches only against MI, RCB , GT ) and result won/loss"
   ]
  },
  {
   "cell_type": "code",
   "execution_count": 35,
   "id": "f28e920b",
   "metadata": {},
   "outputs": [],
   "source": [
    "team_details = {\"CSK\": {\n",
    "    \"full_name\": \"CSK_TIGHER\",\n",
    "    \"Captain\": \"Dhoni\",\n",
    "    \"playing_11\":\n",
    "    {\n",
    "        \"match_1\": [\"Raju\",\"Aryan\",\"Swamy\"],\n",
    "        \"match_2\": [\"Raju\",\"Aryan\",\"Ravi\"],\n",
    "        \"match_3\": [\"Avik\",\"Aryan\",\"Swamy\"]\n",
    "    },\n",
    "    \"Opponent\": [\"MI\",\"RCB\",\"GT\"],\n",
    "    \"Result\" : [\"Won\",\"Loss\",\"Draw\"]\n",
    "\n",
    "}}\n"
   ]
  },
  {
   "cell_type": "code",
   "execution_count": 36,
   "id": "efb24979",
   "metadata": {},
   "outputs": [
    {
     "data": {
      "text/plain": [
       "{'CSK': {'full_name': 'CSK_TIGHER',\n",
       "  'Captain': 'Dhoni',\n",
       "  'playing_11': {'match_1': ['Raju', 'Aryan', 'Swamy'],\n",
       "   'match_2': ['Raju', 'Aryan', 'Ravi'],\n",
       "   'match_3': ['Avik', 'Aryan', 'Swamy']},\n",
       "  'Opponent': ['MI', 'RCB', 'GT'],\n",
       "  'Result': ['Won', 'Loss', 'Draw']}}"
      ]
     },
     "execution_count": 36,
     "metadata": {},
     "output_type": "execute_result"
    }
   ],
   "source": [
    "team_details"
   ]
  },
  {
   "cell_type": "code",
   "execution_count": 38,
   "id": "8c4e6871",
   "metadata": {},
   "outputs": [
    {
     "data": {
      "text/plain": [
       "'Raju'"
      ]
     },
     "execution_count": 38,
     "metadata": {},
     "output_type": "execute_result"
    }
   ],
   "source": [
    "team_details[\"CSK\"][\"playing_11\"][\"match_1\"][0]"
   ]
  },
  {
   "cell_type": "markdown",
   "id": "f10c4709",
   "metadata": {},
   "source": [
    "# 4- write a function to take a positive number as input from user. if the user enters negative number then keep prompting him to enter positive number until he enters the positive number and then print the same"
   ]
  },
  {
   "cell_type": "code",
   "execution_count": 55,
   "metadata": {},
   "outputs": [],
   "source": [
    "def check_positive():\n",
    "    while True:\n",
    "        num = int(input(\"Enter a positive number: \"))\n",
    "        if num > 0:\n",
    "            print(f\"You entered: {num}\")\n",
    "            break\n",
    "        else:\n",
    "            print(\"Please enter a positive number.\")\n"
   ]
  },
  {
   "cell_type": "code",
   "execution_count": 59,
   "metadata": {},
   "outputs": [
    {
     "name": "stdout",
     "output_type": "stream",
     "text": [
      "Please enter a positive number.\n",
      "Please enter a positive number.\n",
      "Please enter a positive number.\n",
      "Please enter a positive number.\n",
      "Please enter a positive number.\n",
      "You entered: 10\n"
     ]
    }
   ],
   "source": [
    "check_positive()"
   ]
  },
  {
   "cell_type": "markdown",
   "id": "286c65f9",
   "metadata": {},
   "source": [
    "## 5- consider the below list of list conatins following information :\n",
    "\n",
    "1. The name of a university \n",
    "\n",
    "2. The total number of enrolled students\n",
    "\n",
    "3. The annual tuition fees\n",
    "\n",
    "\n",
    "universities = [\n",
    "['California Institute of Technology', 2175, 37704],\n",
    "\n",
    "['Harvard', 19627, 39849],\n",
    "\n",
    "['Massachusetts Institute of Technology', 10566, 40732],\n",
    "\n",
    "['Princeton', 7802, 37000],\n",
    "\n",
    "['Rice', 5879, 35551],\n",
    "\n",
    "['Stanford', 19535, 40569],\n",
    "\n",
    "['Yale', 11701, 40500]\n",
    "]\n",
    "\n",
    "write a function to print follwoing information :\n",
    "\n",
    "1- a list of all the universitites  : ['California Institute of Technology','Harvard',..so on]\n",
    "\n",
    "2- total number of student entrolled in all the unversities together \n",
    "\n",
    "3- mean of tuition fees"
   ]
  },
  {
   "cell_type": "code",
   "execution_count": 60,
   "metadata": {},
   "outputs": [],
   "source": [
    "universities = [\n",
    "['California Institute of Technology', 2175, 37704],\n",
    "\n",
    "['Harvard', 19627, 39849],\n",
    "\n",
    "['Massachusetts Institute of Technology', 10566, 40732],\n",
    "\n",
    "['Princeton', 7802, 37000],\n",
    "\n",
    "['Rice', 5879, 35551],\n",
    "\n",
    "['Stanford', 19535, 40569],\n",
    "\n",
    "['Yale', 11701, 40500]\n",
    "]"
   ]
  },
  {
   "cell_type": "code",
   "execution_count": 61,
   "metadata": {},
   "outputs": [
    {
     "data": {
      "text/plain": [
       "[['California Institute of Technology', 2175, 37704],\n",
       " ['Harvard', 19627, 39849],\n",
       " ['Massachusetts Institute of Technology', 10566, 40732],\n",
       " ['Princeton', 7802, 37000],\n",
       " ['Rice', 5879, 35551],\n",
       " ['Stanford', 19535, 40569],\n",
       " ['Yale', 11701, 40500]]"
      ]
     },
     "execution_count": 61,
     "metadata": {},
     "output_type": "execute_result"
    }
   ],
   "source": [
    "universities"
   ]
  },
  {
   "cell_type": "markdown",
   "id": "850360b1",
   "metadata": {},
   "source": [
    "### a - a list of all the universitites  : ['California Institute of Technology','Harvard',..so on]"
   ]
  },
  {
   "cell_type": "code",
   "execution_count": 66,
   "metadata": {},
   "outputs": [
    {
     "data": {
      "text/plain": [
       "['California Institute of Technology',\n",
       " 'Harvard',\n",
       " 'Massachusetts Institute of Technology',\n",
       " 'Princeton',\n",
       " 'Rice',\n",
       " 'Stanford',\n",
       " 'Yale']"
      ]
     },
     "execution_count": 66,
     "metadata": {},
     "output_type": "execute_result"
    }
   ],
   "source": [
    "univ_list = [i[0] for i in universities]\n",
    "univ_list"
   ]
  },
  {
   "cell_type": "markdown",
   "id": "a6e2e50b",
   "metadata": {},
   "source": [
    "### b- total number of student entrolled in all the unversities together "
   ]
  },
  {
   "cell_type": "code",
   "execution_count": 67,
   "metadata": {},
   "outputs": [
    {
     "data": {
      "text/plain": [
       "[['California Institute of Technology', 2175, 37704],\n",
       " ['Harvard', 19627, 39849],\n",
       " ['Massachusetts Institute of Technology', 10566, 40732],\n",
       " ['Princeton', 7802, 37000],\n",
       " ['Rice', 5879, 35551],\n",
       " ['Stanford', 19535, 40569],\n",
       " ['Yale', 11701, 40500]]"
      ]
     },
     "execution_count": 67,
     "metadata": {},
     "output_type": "execute_result"
    }
   ],
   "source": [
    "universities"
   ]
  },
  {
   "cell_type": "code",
   "execution_count": 69,
   "metadata": {},
   "outputs": [
    {
     "name": "stdout",
     "output_type": "stream",
     "text": [
      "77285\n"
     ]
    }
   ],
   "source": [
    "s = 0\n",
    "for i in universities:\n",
    "    s = s + i[1]\n",
    "print(s)\n"
   ]
  },
  {
   "cell_type": "markdown",
   "id": "61500a06",
   "metadata": {},
   "source": [
    "### c- mean of tuition fees"
   ]
  },
  {
   "cell_type": "code",
   "execution_count": 72,
   "metadata": {},
   "outputs": [
    {
     "name": "stdout",
     "output_type": "stream",
     "text": [
      "The mean is: 38843.57142857143.\n"
     ]
    }
   ],
   "source": [
    "s = 0\n",
    "l = len(universities)\n",
    "for  i in universities:\n",
    "    s = s + i[2]\n",
    "m = s/l\n",
    "print(f'The mean is: {m}.')"
   ]
  },
  {
   "cell_type": "markdown",
   "id": "ec28103a",
   "metadata": {},
   "source": [
    "# 6 IMP!!- write a function to convert above universities list to a dictionary. the keys should be the name of the university\n",
    "\n",
    "eg : {'California Institute of Technology': {\"entrolled_students\" : 2175 , \"fees\": 37704} , and so on }"
   ]
  },
  {
   "cell_type": "code",
   "execution_count": 75,
   "metadata": {},
   "outputs": [],
   "source": [
    "universities = [\n",
    "['California Institute of Technology', 2175, 37704],\n",
    "\n",
    "['Harvard', 19627, 39849],\n",
    "\n",
    "['Massachusetts Institute of Technology', 10566, 40732],\n",
    "\n",
    "['Princeton', 7802, 37000],\n",
    "\n",
    "['Rice', 5879, 35551],\n",
    "\n",
    "['Stanford', 19535, 40569],\n",
    "\n",
    "['Yale', 11701, 40500]\n",
    "]"
   ]
  },
  {
   "cell_type": "code",
   "execution_count": 76,
   "metadata": {},
   "outputs": [
    {
     "data": {
      "text/plain": [
       "[['California Institute of Technology', 2175, 37704],\n",
       " ['Harvard', 19627, 39849],\n",
       " ['Massachusetts Institute of Technology', 10566, 40732],\n",
       " ['Princeton', 7802, 37000],\n",
       " ['Rice', 5879, 35551],\n",
       " ['Stanford', 19535, 40569],\n",
       " ['Yale', 11701, 40500]]"
      ]
     },
     "execution_count": 76,
     "metadata": {},
     "output_type": "execute_result"
    }
   ],
   "source": [
    "universities"
   ]
  },
  {
   "cell_type": "code",
   "execution_count": 90,
   "metadata": {},
   "outputs": [],
   "source": [
    "univ_dict = {}\n",
    "for uni in universities:\n",
    "    name = uni[0]\n",
    "    students  = uni[1]\n",
    "    fees_univ = uni[2]\n",
    "    univ_dict[name] = {\n",
    "        \"enrolled_students\": students,\n",
    "        \"fees\": fees_univ\n",
    "    }\n",
    "    "
   ]
  },
  {
   "cell_type": "code",
   "execution_count": 91,
   "metadata": {},
   "outputs": [
    {
     "data": {
      "text/plain": [
       "{'California Institute of Technology': {'enrolled_students': 2175,\n",
       "  'fees': 37704},\n",
       " 'Harvard': {'enrolled_students': 19627, 'fees': 39849},\n",
       " 'Massachusetts Institute of Technology': {'enrolled_students': 10566,\n",
       "  'fees': 40732},\n",
       " 'Princeton': {'enrolled_students': 7802, 'fees': 37000},\n",
       " 'Rice': {'enrolled_students': 5879, 'fees': 35551},\n",
       " 'Stanford': {'enrolled_students': 19535, 'fees': 40569},\n",
       " 'Yale': {'enrolled_students': 11701, 'fees': 40500}}"
      ]
     },
     "execution_count": 91,
     "metadata": {},
     "output_type": "execute_result"
    }
   ],
   "source": [
    "univ_dict"
   ]
  },
  {
   "cell_type": "markdown",
   "id": "4aac8814",
   "metadata": {},
   "source": [
    "# 7- write a function that finds the largest number in a list(unsorted) of integers without using sort/sorted method."
   ]
  },
  {
   "cell_type": "code",
   "execution_count": 107,
   "metadata": {},
   "outputs": [
    {
     "data": {
      "text/plain": [
       "[1, 2, 44, 55, 20, 11, 18, 34, 22, 10]"
      ]
     },
     "execution_count": 107,
     "metadata": {},
     "output_type": "execute_result"
    }
   ],
   "source": [
    "a = [1,2,44,55,20,11,18,34,22,10]\n",
    "a"
   ]
  },
  {
   "cell_type": "code",
   "execution_count": null,
   "metadata": {},
   "outputs": [
    {
     "name": "stdout",
     "output_type": "stream",
     "text": [
      "The largest number is: 55\n"
     ]
    }
   ],
   "source": [
    "## TESTING:\n",
    "max_num = a[0]  # Initialize with the first element\n",
    "for i in range(len(a)):\n",
    "    if a[i] > max_num:\n",
    "        max_num = a[i]  # Update max if current element is greater\n",
    "\n",
    "print(f\"The largest number is: {max_num}\")"
   ]
  },
  {
   "cell_type": "code",
   "execution_count": 106,
   "metadata": {},
   "outputs": [],
   "source": [
    "def largest_no(x):\n",
    "    max_num = x[0]\n",
    "    for i in range(len(x)):\n",
    "        if x[i] > max_num:\n",
    "            max_num = x[i]\n",
    "    return max_num"
   ]
  },
  {
   "cell_type": "code",
   "execution_count": null,
   "metadata": {},
   "outputs": [
    {
     "data": {
      "text/plain": [
       "55"
      ]
     },
     "execution_count": 108,
     "metadata": {},
     "output_type": "execute_result"
    }
   ],
   "source": [
    "largest_no(a)"
   ]
  },
  {
   "cell_type": "markdown",
   "id": "4712b1bb",
   "metadata": {},
   "source": [
    "# IMP -8- Write a function get_topper(student_marks) that takes a dictionary where keys are student names and values are their marks. Return the name(s) of the student(s) with the highest marks.\n",
    "eg:\n",
    "Input:\n",
    "{'Ankit': 88, 'Shivansh': 92, 'Riya': 92, 'Soham': 85}\n",
    "Output: ['Shivansh', 'Riya']"
   ]
  },
  {
   "cell_type": "markdown",
   "metadata": {},
   "source": [
    "d = {'Ankit': 88, 'Shivansh': 92, 'Riya': 92, 'Soham': 85}\n",
    "d"
   ]
  },
  {
   "cell_type": "code",
   "execution_count": 122,
   "id": "57cb4d9d",
   "metadata": {},
   "outputs": [],
   "source": [
    "d = {'Ankit': 88, 'Shivansh': 92, 'Riya': 92, 'Soham': 85}"
   ]
  },
  {
   "cell_type": "code",
   "execution_count": null,
   "metadata": {},
   "outputs": [],
   "source": [
    "# Testing:\n",
    "max_marks = 0\n",
    "students = []\n",
    "for keys,values in d.items():\n",
    "    if values > max_marks:\n",
    "        max_marks = values\n",
    "for keys,values in d.items():\n",
    "    if values == max_marks:\n",
    "        students.append(keys)\n",
    "        \n"
   ]
  },
  {
   "cell_type": "markdown",
   "id": "0f32f914",
   "metadata": {},
   "source": [
    "### Function:"
   ]
  },
  {
   "cell_type": "code",
   "execution_count": 121,
   "metadata": {},
   "outputs": [],
   "source": [
    "def highest_scorers(dict):\n",
    "    max_marks = 0\n",
    "    students = []\n",
    "    for keys,values in dict.items():\n",
    "        if values > max_marks:\n",
    "            max_marks = values\n",
    "    for keys,values in dict.items():\n",
    "        if values == max_marks:\n",
    "            students.append(keys)\n",
    "    return students                                                                                                                                                                                                                                            "
   ]
  },
  {
   "cell_type": "code",
   "execution_count": 123,
   "metadata": {},
   "outputs": [
    {
     "data": {
      "text/plain": [
       "['Shivansh', 'Riya']"
      ]
     },
     "execution_count": 123,
     "metadata": {},
     "output_type": "execute_result"
    }
   ],
   "source": [
    "highest_scorers(d)"
   ]
  },
  {
   "cell_type": "markdown",
   "id": "169bee29",
   "metadata": {},
   "source": [
    "- the oabove works fine but what if You're initializing max_marks = 0 which can fail if all students scored less than 0 (e.g., negative marks). Not common, but it's safer to use max(dict.values()) directly."
   ]
  },
  {
   "cell_type": "code",
   "execution_count": 135,
   "metadata": {},
   "outputs": [],
   "source": [
    "def toppers(dict):\n",
    "    max_marks = max(dict.values())\n",
    "    students_list  = []\n",
    "    for keys,values in dict.items():\n",
    "        if values == max_marks:\n",
    "            students_list.append(keys)\n",
    "    return students_list"
   ]
  },
  {
   "cell_type": "code",
   "execution_count": 136,
   "metadata": {},
   "outputs": [
    {
     "data": {
      "text/plain": [
       "['Shivansh', 'Riya']"
      ]
     },
     "execution_count": 136,
     "metadata": {},
     "output_type": "execute_result"
    }
   ],
   "source": [
    "toppers(d)"
   ]
  },
  {
   "cell_type": "markdown",
   "id": "f226b5b3",
   "metadata": {},
   "source": [
    "#### Accessing the keys of a dictionary"
   ]
  },
  {
   "cell_type": "code",
   "execution_count": 137,
   "metadata": {},
   "outputs": [
    {
     "data": {
      "text/plain": [
       "{'Ankit': 88, 'Shivansh': 92, 'Riya': 92, 'Soham': 85}"
      ]
     },
     "execution_count": 137,
     "metadata": {},
     "output_type": "execute_result"
    }
   ],
   "source": [
    "d"
   ]
  },
  {
   "cell_type": "code",
   "execution_count": 138,
   "metadata": {},
   "outputs": [
    {
     "data": {
      "text/plain": [
       "dict_keys(['Ankit', 'Shivansh', 'Riya', 'Soham'])"
      ]
     },
     "execution_count": 138,
     "metadata": {},
     "output_type": "execute_result"
    }
   ],
   "source": [
    "d.keys()"
   ]
  },
  {
   "cell_type": "code",
   "execution_count": 139,
   "metadata": {},
   "outputs": [
    {
     "name": "stdout",
     "output_type": "stream",
     "text": [
      "Ankit\n",
      "Shivansh\n",
      "Riya\n",
      "Soham\n"
     ]
    }
   ],
   "source": [
    "for a in d.keys():\n",
    "    print(a)"
   ]
  },
  {
   "cell_type": "markdown",
   "id": "1c7af53e",
   "metadata": {},
   "source": [
    "#### Accessing the Values:"
   ]
  },
  {
   "cell_type": "code",
   "execution_count": 140,
   "metadata": {},
   "outputs": [
    {
     "name": "stdout",
     "output_type": "stream",
     "text": [
      "88\n",
      "92\n",
      "92\n",
      "85\n"
     ]
    }
   ],
   "source": [
    "for a in d.values():\n",
    "    print(a)"
   ]
  },
  {
   "cell_type": "code",
   "execution_count": 141,
   "metadata": {},
   "outputs": [
    {
     "data": {
      "text/plain": [
       "92"
      ]
     },
     "execution_count": 141,
     "metadata": {},
     "output_type": "execute_result"
    }
   ],
   "source": [
    "max(d.values())"
   ]
  },
  {
   "cell_type": "markdown",
   "id": "22fadeec",
   "metadata": {},
   "source": [
    "# 9 IMP- Write a function that takes a string and returns the number of unique words (case-insensitive).\n",
    "eg:\n",
    "# Input: \"Python is great and python is fun\"\n",
    "# Output: 5\n"
   ]
  },
  {
   "cell_type": "code",
   "execution_count": 142,
   "metadata": {},
   "outputs": [],
   "source": [
    "inp = \"Python is great and python is fun\""
   ]
  },
  {
   "cell_type": "code",
   "execution_count": 150,
   "metadata": {},
   "outputs": [
    {
     "data": {
      "text/plain": [
       "5"
      ]
     },
     "execution_count": 150,
     "metadata": {},
     "output_type": "execute_result"
    }
   ],
   "source": [
    "word_count = []\n",
    "for i in inp.lower().split():\n",
    "    if i not in word_count:\n",
    "        word_count.append(i)\n",
    "len(word_count)"
   ]
  },
  {
   "cell_type": "markdown",
   "id": "577ff641",
   "metadata": {},
   "source": [
    "#### Function"
   ]
  },
  {
   "cell_type": "code",
   "execution_count": 151,
   "metadata": {},
   "outputs": [],
   "source": [
    "def unique_count(inp_str):\n",
    "    unique_words_list = []\n",
    "    for word in  inp_str.lower().split():\n",
    "        if word not in unique_words_list:\n",
    "            unique_words_list.append(word)\n",
    "    return len(unique_words_list)"
   ]
  },
  {
   "cell_type": "code",
   "execution_count": 152,
   "metadata": {},
   "outputs": [],
   "source": [
    "a = \"Python is great and python is fun\""
   ]
  },
  {
   "cell_type": "code",
   "execution_count": 153,
   "metadata": {},
   "outputs": [
    {
     "data": {
      "text/plain": [
       "5"
      ]
     },
     "execution_count": 153,
     "metadata": {},
     "output_type": "execute_result"
    }
   ],
   "source": [
    "unique_count(a)"
   ]
  },
  {
   "cell_type": "markdown",
   "id": "caaca734",
   "metadata": {},
   "source": [
    "# 10- Given a list of tuples like [(101, 'Keyboard', 799), (102, 'Mouse', 499)], write a function that converts it into a dictionary with product name as key and price as value.\n",
    "\n",
    "eg:\n",
    "# Output:\n",
    "# {'Keyboard': 799, 'Mouse': 499}"
   ]
  },
  {
   "cell_type": "markdown",
   "id": "a6623fe8",
   "metadata": {},
   "source": [
    "#### Testing:"
   ]
  },
  {
   "cell_type": "code",
   "execution_count": 162,
   "metadata": {},
   "outputs": [],
   "source": [
    "t = [(101, 'Keyboard', 799), (102, 'Mouse', 499)]"
   ]
  },
  {
   "cell_type": "code",
   "execution_count": 156,
   "metadata": {},
   "outputs": [
    {
     "name": "stdout",
     "output_type": "stream",
     "text": [
      "(101, 'Keyboard', 799)\n",
      "(102, 'Mouse', 499)\n"
     ]
    }
   ],
   "source": [
    "for i in t:\n",
    "    print(i)"
   ]
  },
  {
   "cell_type": "code",
   "execution_count": 163,
   "metadata": {},
   "outputs": [],
   "source": [
    "dict = {}\n",
    "for i in t:\n",
    "    keys_name = list(i)[1]\n",
    "    price = list(i)[2]\n",
    "    dict[keys_name] = price\n",
    "    \n"
   ]
  },
  {
   "cell_type": "code",
   "execution_count": 164,
   "metadata": {},
   "outputs": [
    {
     "data": {
      "text/plain": [
       "{'Keyboard': 799, 'Mouse': 499}"
      ]
     },
     "execution_count": 164,
     "metadata": {},
     "output_type": "execute_result"
    }
   ],
   "source": [
    "dict"
   ]
  },
  {
   "cell_type": "code",
   "execution_count": 165,
   "metadata": {},
   "outputs": [],
   "source": [
    "t = [(101, 'Keyboard', 799), (102, 'Mouse', 499)]"
   ]
  },
  {
   "cell_type": "markdown",
   "id": "d79640b5",
   "metadata": {},
   "source": [
    "#### Function:"
   ]
  },
  {
   "cell_type": "code",
   "execution_count": 166,
   "metadata": {},
   "outputs": [],
   "source": [
    "def convert_dict(l):\n",
    "    dict = {}\n",
    "    for i in l:\n",
    "        keys = list(i)[1]\n",
    "        values = list(i)[2]\n",
    "        dict[keys] = values\n",
    "    return dict\n",
    "    "
   ]
  },
  {
   "cell_type": "markdown",
   "id": "a404a1cb",
   "metadata": {},
   "source": [
    "##### Validation:"
   ]
  },
  {
   "cell_type": "code",
   "execution_count": 167,
   "metadata": {},
   "outputs": [
    {
     "data": {
      "text/plain": [
       "{'Keyboard': 799, 'Mouse': 499}"
      ]
     },
     "execution_count": 167,
     "metadata": {},
     "output_type": "execute_result"
    }
   ],
   "source": [
    "convert_dict(t)"
   ]
  },
  {
   "cell_type": "markdown",
   "id": "2ef47210",
   "metadata": {},
   "source": [
    "# 11- Write a function that counts word frequency in a paragraph and ignores common stopwords like 'is', 'the', 'a', 'an', 'and'."
   ]
  },
  {
   "cell_type": "code",
   "execution_count": 173,
   "metadata": {},
   "outputs": [
    {
     "data": {
      "text/plain": [
       "'I am a boy and I have never been to antartica because it is extremely cold out there.The cold is very very harmful'"
      ]
     },
     "execution_count": 173,
     "metadata": {},
     "output_type": "execute_result"
    }
   ],
   "source": [
    "a = \"I am a boy and I have never been to antartica because it is extremely cold out there.The cold is very very harmful\"\n",
    "a"
   ]
  },
  {
   "cell_type": "code",
   "execution_count": 174,
   "metadata": {},
   "outputs": [
    {
     "name": "stdout",
     "output_type": "stream",
     "text": [
      "{'i': 2, 'am': 1, 'boy': 1, 'have': 1, 'never': 1, 'been': 1, 'to': 1, 'antartica': 1, 'because': 1, 'it': 1, 'extremely': 1, 'cold': 2, 'out': 1, 'there.the': 1, 'very': 2, 'harmful': 1}\n"
     ]
    }
   ],
   "source": [
    "unique_list = []\n",
    "stop_words =  ['is','the','a','an','and']\n",
    "dic_1 = {}\n",
    "for w in a.lower().split():\n",
    "    if w not in unique_list and w not in stop_words:\n",
    "        unique_list.append(w)\n",
    "for wd in unique_list:\n",
    "    dic_1[wd] = a.lower().split().count(wd)\n",
    "print(dic_1)\n"
   ]
  },
  {
   "cell_type": "markdown",
   "id": "c81a7ed5",
   "metadata": {},
   "source": [
    "#### Counting of a word in a list"
   ]
  },
  {
   "cell_type": "code",
   "execution_count": 178,
   "metadata": {},
   "outputs": [
    {
     "data": {
      "text/plain": [
       "2"
      ]
     },
     "execution_count": 178,
     "metadata": {},
     "output_type": "execute_result"
    }
   ],
   "source": [
    "a = ['I','I','am','am','there']\n",
    "a.count('I')"
   ]
  },
  {
   "cell_type": "code",
   "execution_count": 179,
   "metadata": {},
   "outputs": [
    {
     "data": {
      "text/plain": [
       "2"
      ]
     },
     "execution_count": 179,
     "metadata": {},
     "output_type": "execute_result"
    }
   ],
   "source": [
    "a.count('am')"
   ]
  },
  {
   "cell_type": "code",
   "execution_count": 180,
   "metadata": {},
   "outputs": [
    {
     "data": {
      "text/plain": [
       "1"
      ]
     },
     "execution_count": 180,
     "metadata": {},
     "output_type": "execute_result"
    }
   ],
   "source": [
    "a.count('there')"
   ]
  },
  {
   "cell_type": "markdown",
   "id": "70d85f4a",
   "metadata": {},
   "source": [
    "#### Function"
   ]
  },
  {
   "cell_type": "code",
   "execution_count": null,
   "metadata": {},
   "outputs": [],
   "source": [
    "def freq_count(s):\n",
    "    unique_list = []\n",
    "    stop_words =  ['is','the','a','an','and']\n",
    "    dic_1 = {}\n",
    "    for w in s.lower().split():\n",
    "        if w not in unique_list and w not in stop_words:\n",
    "            unique_list.append(w)\n",
    "        for wd in unique_list:\n",
    "            dic_1[wd] = s.lower().split().count(wd)\n",
    "    print(dic_1)\n"
   ]
  },
  {
   "cell_type": "markdown",
   "id": "077f17c4",
   "metadata": {},
   "source": [
    "#### testing:"
   ]
  },
  {
   "cell_type": "code",
   "execution_count": 183,
   "metadata": {},
   "outputs": [],
   "source": [
    "a = \"I am a boy and I have never been to antartica because it is extremely cold out there.The cold is very very harmful\""
   ]
  },
  {
   "cell_type": "code",
   "execution_count": 184,
   "metadata": {},
   "outputs": [
    {
     "name": "stdout",
     "output_type": "stream",
     "text": [
      "{'i': 2, 'am': 1, 'boy': 1, 'have': 1, 'never': 1, 'been': 1, 'to': 1, 'antartica': 1, 'because': 1, 'it': 1, 'extremely': 1, 'cold': 2, 'out': 1, 'there.the': 1, 'very': 2, 'harmful': 1}\n"
     ]
    }
   ],
   "source": [
    "freq_count(a)"
   ]
  },
  {
   "cell_type": "markdown",
   "id": "560676ea",
   "metadata": {},
   "source": [
    "# 12- You're given a dictionary like:\n",
    "\n",
    "{\n",
    "  'Ankit': ('Python',),\n",
    "\n",
    "  'Riya': ('Python', 'Tableau'),\n",
    "\n",
    "  'Soham': ('SQL', 'Power BI'),\n",
    "\n",
    "  'Neha': ('Python', 'SQL', 'Power BI')\n",
    "}\n",
    "\n",
    "\n",
    "Write a function that returns:\n",
    " \n",
    "a set of all unique courses and names of students enrolled in exactly 2 courses"
   ]
  },
  {
   "cell_type": "code",
   "execution_count": 186,
   "metadata": {},
   "outputs": [],
   "source": [
    "dict_2 = {\n",
    "  'Ankit': ('Python',),\n",
    "\n",
    "  'Riya': ('Python', 'Tableau'),\n",
    "\n",
    "  'Soham': ('SQL', 'Power BI'),\n",
    "\n",
    "  'Neha': ('Python', 'SQL', 'Power BI')\n",
    "}"
   ]
  },
  {
   "cell_type": "code",
   "execution_count": 187,
   "metadata": {},
   "outputs": [
    {
     "data": {
      "text/plain": [
       "{'Ankit': ('Python',),\n",
       " 'Riya': ('Python', 'Tableau'),\n",
       " 'Soham': ('SQL', 'Power BI'),\n",
       " 'Neha': ('Python', 'SQL', 'Power BI')}"
      ]
     },
     "execution_count": 187,
     "metadata": {},
     "output_type": "execute_result"
    }
   ],
   "source": [
    "dict_2"
   ]
  },
  {
   "cell_type": "code",
   "execution_count": 192,
   "metadata": {},
   "outputs": [],
   "source": [
    "def give_details(d):\n",
    "    a = []\n",
    "    for c in dict_2.values():\n",
    "        for i in c:\n",
    "            if i not in a:\n",
    "                a.append(i)\n",
    "    names = []\n",
    "    for key, value in dict_2.items():\n",
    "        if len(list(value)) == 2:\n",
    "            names.append(key)\n",
    "    print(f'Unique course list : {set(a)}')\n",
    "    print(f'Students enrolled in 2 courses: {set(names)}')\n"
   ]
  },
  {
   "cell_type": "code",
   "execution_count": 193,
   "metadata": {},
   "outputs": [
    {
     "name": "stdout",
     "output_type": "stream",
     "text": [
      "Unique course list : {'SQL', 'Tableau', 'Python', 'Power BI'}\n",
      "Students enrolled in 2 courses: {'Soham', 'Riya'}\n"
     ]
    }
   ],
   "source": [
    "give_details(dict_2)"
   ]
  },
  {
   "cell_type": "code",
   "execution_count": 194,
   "metadata": {},
   "outputs": [
    {
     "name": "stdout",
     "output_type": "stream",
     "text": [
      "Unique course list : {'SQL', 'Tableau', 'Python', 'Power BI'}\n",
      "Students enrolled in 2 courses: {'Soham', 'Riya'}\n"
     ]
    }
   ],
   "source": [
    "give_details(dict_2)"
   ]
  },
  {
   "cell_type": "markdown",
   "id": "51dad4fb",
   "metadata": {},
   "source": [
    "# 13- Write a function that takes a list of words and groups them into anagrams using dictionary.\n",
    "\n",
    "# Input: ['listen', 'silent', 'enlist', 'rat', 'tar', 'art']\n",
    "\n",
    "# Output:\n",
    "# {\n",
    "#   'eilnst': ['listen', 'silent', 'enlist'],\n",
    "#   'art': ['rat', 'tar', 'art']\n",
    "# }"
   ]
  },
  {
   "cell_type": "markdown",
   "id": "f74af5c6",
   "metadata": {},
   "source": [
    "# 14- Write a function most_frequent_char(s) that takes a string and returns the character that appears the most (excluding spaces).\n",
    "\n",
    "eg:\n",
    "\n",
    "Input: \"welcome to python\"\n",
    "\n",
    "Output: 'o'"
   ]
  },
  {
   "cell_type": "code",
   "execution_count": 202,
   "metadata": {},
   "outputs": [],
   "source": [
    "s = \"welcome to python\""
   ]
  },
  {
   "cell_type": "code",
   "execution_count": 206,
   "metadata": {},
   "outputs": [
    {
     "data": {
      "text/plain": [
       "['welcome', 'to', 'python']"
      ]
     },
     "execution_count": 206,
     "metadata": {},
     "output_type": "execute_result"
    }
   ],
   "source": [
    "s.split()"
   ]
  },
  {
   "cell_type": "code",
   "execution_count": 207,
   "metadata": {},
   "outputs": [
    {
     "data": {
      "text/plain": [
       "['w',\n",
       " 'e',\n",
       " 'l',\n",
       " 'c',\n",
       " 'o',\n",
       " 'm',\n",
       " 'e',\n",
       " ' ',\n",
       " 't',\n",
       " 'o',\n",
       " ' ',\n",
       " 'p',\n",
       " 'y',\n",
       " 't',\n",
       " 'h',\n",
       " 'o',\n",
       " 'n']"
      ]
     },
     "execution_count": 207,
     "metadata": {},
     "output_type": "execute_result"
    }
   ],
   "source": [
    "t = [l for l in s]\n",
    "t"
   ]
  },
  {
   "cell_type": "code",
   "execution_count": 210,
   "metadata": {},
   "outputs": [
    {
     "name": "stdout",
     "output_type": "stream",
     "text": [
      "The maximum occuring letter is: o with freq of 3\n"
     ]
    }
   ],
   "source": [
    "u = []\n",
    "d = {}\n",
    "t = [l for l in s]\n",
    "for i in s:\n",
    "    if i not in u and i != ' ':\n",
    "        u.append(i)\n",
    "for i in u:\n",
    "    d[i] = t.count(i)\n",
    "for key,value in d.items():\n",
    "    if value == max(d.values()):\n",
    "        print(f'The maximum occuring letter is: {key} with freq of {value}')\n",
    "\n"
   ]
  },
  {
   "cell_type": "code",
   "execution_count": 204,
   "metadata": {},
   "outputs": [
    {
     "data": {
      "text/plain": [
       "['w', 'e', 'l', 'c', 'o', 'm', 't', 'p', 'y', 'h', 'n']"
      ]
     },
     "execution_count": 204,
     "metadata": {},
     "output_type": "execute_result"
    }
   ],
   "source": [
    "u"
   ]
  },
  {
   "cell_type": "code",
   "execution_count": 211,
   "metadata": {},
   "outputs": [],
   "source": [
    "def count_max_char(s):\n",
    "    u = []\n",
    "    d = {}\n",
    "    t = [l for l in s]\n",
    "    for i in s:\n",
    "        if i not in u and i != ' ':\n",
    "            u.append(i)\n",
    "    for i in u:\n",
    "        d[i] = t.count(i)\n",
    "    for key,value in d.items():\n",
    "        if value == max(d.values()):\n",
    "            print(f'The maximum occuring letter is: {key} with a freq of {value}')"
   ]
  },
  {
   "cell_type": "code",
   "execution_count": 212,
   "metadata": {},
   "outputs": [
    {
     "name": "stdout",
     "output_type": "stream",
     "text": [
      "The maximum occuring letter is: o with a freq of 3\n"
     ]
    }
   ],
   "source": [
    "s = \"welcome to python\"\n",
    "count_max_char(s)"
   ]
  },
  {
   "cell_type": "markdown",
   "id": "6c426972",
   "metadata": {},
   "source": [
    "# 15- Write a function that takes a list of numbers and returns a dictionary with keys \"min\" and \"max\".\n",
    "eg:\n",
    "# Input: [5, 2, 8, 1, 9]\n",
    "# Output: {'min': 1, 'max': 9}"
   ]
  },
  {
   "cell_type": "code",
   "execution_count": 217,
   "metadata": {},
   "outputs": [],
   "source": [
    "i = [5, 2, 8, 1, 9]"
   ]
  },
  {
   "cell_type": "code",
   "execution_count": 219,
   "metadata": {},
   "outputs": [],
   "source": [
    "def dict_convert(l):\n",
    "    m = min(l)\n",
    "    ma = max(l)\n",
    "    d = {}\n",
    "    d[\"min\"] = m\n",
    "    d[\"max\"] = ma\n",
    "    return d"
   ]
  },
  {
   "cell_type": "code",
   "execution_count": 220,
   "metadata": {},
   "outputs": [
    {
     "data": {
      "text/plain": [
       "{'min': 1, 'max': 9}"
      ]
     },
     "execution_count": 220,
     "metadata": {},
     "output_type": "execute_result"
    }
   ],
   "source": [
    "dict_convert(i)"
   ]
  },
  {
   "cell_type": "markdown",
   "id": "d298128b",
   "metadata": {},
   "source": [
    "# 16- You have a dictionary with student names and a list of their marks.\n",
    "\n",
    "marks = {\n",
    "\n",
    "    'Ankit': [80, 90, 85],\n",
    "\n",
    "    'Riya': [70, 60, 75],\n",
    "    \n",
    "    'Soham': [88, 92, 90]\n",
    "}\n",
    "Write a function to return names of students whose average is above 80.\n",
    "\n",
    "Output: ['Ankit', 'Soham']"
   ]
  },
  {
   "cell_type": "code",
   "execution_count": 221,
   "metadata": {},
   "outputs": [],
   "source": [
    "marks = {\n",
    "\n",
    "    'Ankit': [80, 90, 85],\n",
    "\n",
    "    'Riya': [70, 60, 75],\n",
    "    \n",
    "    'Soham': [88, 92, 90]\n",
    "}"
   ]
  },
  {
   "cell_type": "code",
   "execution_count": 225,
   "metadata": {},
   "outputs": [
    {
     "data": {
      "text/plain": [
       "['Ankit', 'Soham']"
      ]
     },
     "execution_count": 225,
     "metadata": {},
     "output_type": "execute_result"
    }
   ],
   "source": [
    "\n",
    "d = {}\n",
    "s = []\n",
    "for keys,values in marks.items():\n",
    "    d[keys] = sum(values)/len(values)\n",
    "for keys,values in d.items():\n",
    "    if values >= 80:\n",
    "        s.append(keys)\n",
    "s\n"
   ]
  },
  {
   "cell_type": "code",
   "execution_count": 226,
   "metadata": {},
   "outputs": [],
   "source": [
    "def ret_stu(d):\n",
    "    di = {}\n",
    "    s = []\n",
    "    for keys,values in d.items():\n",
    "        di[keys] = sum(values)/len(values)\n",
    "    for keys,values in di.items():\n",
    "        if values >= 80:\n",
    "            s.append(keys)\n",
    "    return s"
   ]
  },
  {
   "cell_type": "code",
   "execution_count": 227,
   "metadata": {},
   "outputs": [
    {
     "data": {
      "text/plain": [
       "['Ankit', 'Soham']"
      ]
     },
     "execution_count": 227,
     "metadata": {},
     "output_type": "execute_result"
    }
   ],
   "source": [
    "marks = {\n",
    "\n",
    "    'Ankit': [80, 90, 85],\n",
    "\n",
    "    'Riya': [70, 60, 75],\n",
    "    \n",
    "    'Soham': [88, 92, 90]\n",
    "}\n",
    "ret_stu(marks)"
   ]
  },
  {
   "cell_type": "code",
   "execution_count": null,
   "metadata": {},
   "outputs": [],
   "source": []
  }
 ],
 "metadata": {
  "kernelspec": {
   "display_name": "base",
   "language": "python",
   "name": "python3"
  },
  "language_info": {
   "codemirror_mode": {
    "name": "ipython",
    "version": 3
   },
   "file_extension": ".py",
   "mimetype": "text/x-python",
   "name": "python",
   "nbconvert_exporter": "python",
   "pygments_lexer": "ipython3",
   "version": "3.12.7"
  }
 },
 "nbformat": 4,
 "nbformat_minor": 5
}
