{
 "cells": [
  {
   "cell_type": "markdown",
   "id": "ae88bc02",
   "metadata": {},
   "source": [
    "# Functions"
   ]
  },
  {
   "cell_type": "code",
   "execution_count": 2,
   "metadata": {},
   "outputs": [],
   "source": [
    "def calculate_gst(amount,rate):\n",
    "    gst = amount * (rate/1000)\n",
    "    return gst"
   ]
  },
  {
   "cell_type": "markdown",
   "id": "f2443c7c",
   "metadata": {},
   "source": [
    "#### Returning Multiple Values"
   ]
  },
  {
   "cell_type": "code",
   "execution_count": null,
   "metadata": {},
   "outputs": [],
   "source": [
    "def calculate_gst(amount,rate):\n",
    "    gst = amount * (rate/100)\n",
    "    final_amount = amount + gst\n",
    "    return gst, final_amount\n",
    " "
   ]
  },
  {
   "cell_type": "code",
   "execution_count": 4,
   "metadata": {},
   "outputs": [
    {
     "data": {
      "text/plain": [
       "(50.0, 1050.0)"
      ]
     },
     "execution_count": 4,
     "metadata": {},
     "output_type": "execute_result"
    }
   ],
   "source": [
    "calculate_gst(1000,5)"
   ]
  },
  {
   "cell_type": "markdown",
   "id": "2d4a81ff",
   "metadata": {},
   "source": [
    "#### Passing Default Value"
   ]
  },
  {
   "cell_type": "code",
   "execution_count": 5,
   "metadata": {},
   "outputs": [],
   "source": [
    "def calculate_gst(amount,rate = 10):\n",
    "    gst = amount * (rate/100)\n",
    "    final_amount = amount + gst\n",
    "    return gst,final_amount\n"
   ]
  },
  {
   "cell_type": "code",
   "execution_count": 6,
   "metadata": {},
   "outputs": [
    {
     "data": {
      "text/plain": [
       "(50.0, 1050.0)"
      ]
     },
     "execution_count": 6,
     "metadata": {},
     "output_type": "execute_result"
    }
   ],
   "source": [
    "calculate_gst(1000,5)"
   ]
  },
  {
   "cell_type": "code",
   "execution_count": null,
   "metadata": {},
   "outputs": [
    {
     "data": {
      "text/plain": [
       "(100.0, 1100.0)"
      ]
     },
     "execution_count": 7,
     "metadata": {},
     "output_type": "execute_result"
    }
   ],
   "source": [
    "calculate_gst(1000) # took DFefault Value"
   ]
  },
  {
   "cell_type": "markdown",
   "id": "5dd2a5d0",
   "metadata": {},
   "source": [
    "### Problem: Find the First Repeating Element in a List:"
   ]
  },
  {
   "cell_type": "code",
   "execution_count": 9,
   "metadata": {},
   "outputs": [
    {
     "name": "stdout",
     "output_type": "stream",
     "text": [
      "2\n"
     ]
    }
   ],
   "source": [
    "my_list = [1,2,3,2,1,5,8,5]\n",
    "returning_list = []\n",
    "for i in my_list:\n",
    "    if i not in returning_list:\n",
    "        returning_list.append(i)\n",
    "    else:\n",
    "        print(f'{i}')\n",
    "        break"
   ]
  },
  {
   "cell_type": "code",
   "execution_count": 11,
   "metadata": {},
   "outputs": [],
   "source": [
    "def first_repeat(x):\n",
    "    returning_list = []\n",
    "    for i in x:\n",
    "        if i not in returning_list:\n",
    "            returning_list.append(i)\n",
    "        else:\n",
    "            print(f'{i}')\n",
    "            break\n"
   ]
  },
  {
   "cell_type": "markdown",
   "id": "b8799489",
   "metadata": {},
   "source": [
    "## arbitrary argument"
   ]
  },
  {
   "cell_type": "code",
   "execution_count": 15,
   "metadata": {},
   "outputs": [],
   "source": [
    "def add(*args):\n",
    "    tv = 0 \n",
    "    for num in args:\n",
    "        tv = tv + num\n",
    "    return tv"
   ]
  },
  {
   "cell_type": "code",
   "execution_count": 16,
   "metadata": {},
   "outputs": [
    {
     "data": {
      "text/plain": [
       "6"
      ]
     },
     "execution_count": 16,
     "metadata": {},
     "output_type": "execute_result"
    }
   ],
   "source": [
    "add(1,2,3)"
   ]
  },
  {
   "cell_type": "code",
   "execution_count": null,
   "metadata": {},
   "outputs": [],
   "source": [
    "def add(*args):\n",
    "    tv = 0 \n",
    "    for num in args:\n",
    "        tv = tv + num\n",
    "    return tv"
   ]
  },
  {
   "cell_type": "markdown",
   "id": "ee870520",
   "metadata": {},
   "source": [
    "### Build a user profile:"
   ]
  },
  {
   "cell_type": "code",
   "execution_count": 33,
   "metadata": {},
   "outputs": [],
   "source": [
    "def create_profile(**kwargs):\n",
    "    profile = {}\n",
    "    for key,value in kwargs.items():\n",
    "        profile.setdefault(key,[]).append(value)\n",
    "    return profile"
   ]
  },
  {
   "cell_type": "code",
   "execution_count": 34,
   "metadata": {},
   "outputs": [
    {
     "data": {
      "text/plain": [
       "{'name': ['ankit'], 'age': [30], 'city': ['Bangalore']}"
      ]
     },
     "execution_count": 34,
     "metadata": {},
     "output_type": "execute_result"
    }
   ],
   "source": [
    "user = create_profile(name = \"ankit\", age = 30,city = \"Bangalore\")\n",
    "user"
   ]
  },
  {
   "cell_type": "code",
   "execution_count": 35,
   "metadata": {},
   "outputs": [],
   "source": [
    "#User function Template for python3\n",
    "\n",
    "\n",
    "class Solution:\n",
    "    def modify(self, s):\n",
    "        for i in s:\n",
    "            if i.islower():\n",
    "                s.lower()\n",
    "            else:\n",
    "                s.uper()\n",
    "        return s"
   ]
  },
  {
   "cell_type": "code",
   "execution_count": 40,
   "metadata": {},
   "outputs": [
    {
     "data": {
      "text/plain": [
       "{'Ronu': ['SST', 'Science'], 'Vikky': ['Pol', 'Algebra']}"
      ]
     },
     "execution_count": 40,
     "metadata": {},
     "output_type": "execute_result"
    }
   ],
   "source": [
    "student = { \"Ronu\": ['SST','Science'],\"Vikky\":['Pol','Algebra']}\n",
    "student"
   ]
  },
  {
   "cell_type": "code",
   "execution_count": 41,
   "metadata": {},
   "outputs": [
    {
     "data": {
      "text/plain": [
       "[1, 2, 3, 4, 56, 12, 2, 4]"
      ]
     },
     "execution_count": 41,
     "metadata": {},
     "output_type": "execute_result"
    }
   ],
   "source": [
    "a = [1,2,3,4,56,12,2,4]\n",
    "a"
   ]
  },
  {
   "cell_type": "code",
   "execution_count": 42,
   "metadata": {},
   "outputs": [
    {
     "data": {
      "text/plain": [
       "(1, 2, 3, 4, 56, 12, 2, 4)"
      ]
     },
     "execution_count": 42,
     "metadata": {},
     "output_type": "execute_result"
    }
   ],
   "source": [
    "a = (1,2,3,4,56,12,2,4)\n",
    "a"
   ]
  },
  {
   "cell_type": "code",
   "execution_count": 43,
   "metadata": {},
   "outputs": [
    {
     "data": {
      "text/plain": [
       "{1, 2, 3, 4, 12, 56}"
      ]
     },
     "execution_count": 43,
     "metadata": {},
     "output_type": "execute_result"
    }
   ],
   "source": [
    "a = {1,2,3,4,56,12,2,4}\n",
    "a"
   ]
  },
  {
   "cell_type": "code",
   "execution_count": 44,
   "metadata": {},
   "outputs": [
    {
     "data": {
      "text/plain": [
       "set"
      ]
     },
     "execution_count": 44,
     "metadata": {},
     "output_type": "execute_result"
    }
   ],
   "source": [
    "type(a)"
   ]
  },
  {
   "cell_type": "code",
   "execution_count": 47,
   "metadata": {},
   "outputs": [
    {
     "data": {
      "text/plain": [
       "{'Ronu': ['SST', 'Science'], 'Vikky': ['Pol', 'Algebra', 'Pol', 'Algebra']}"
      ]
     },
     "execution_count": 47,
     "metadata": {},
     "output_type": "execute_result"
    }
   ],
   "source": [
    "student = { \"Ronu\": ['SST','Science'],\"Vikky\":['Pol','Algebra','Pol','Algebra']}\n",
    "student"
   ]
  },
  {
   "cell_type": "code",
   "execution_count": 50,
   "metadata": {},
   "outputs": [
    {
     "data": {
      "text/plain": [
       "['Pol', 'Algebra']"
      ]
     },
     "execution_count": 50,
     "metadata": {},
     "output_type": "execute_result"
    }
   ],
   "source": [
    "list(set(student[\"Vikky\"]))"
   ]
  },
  {
   "cell_type": "code",
   "execution_count": null,
   "metadata": {},
   "outputs": [
    {
     "name": "stdout",
     "output_type": "stream",
     "text": [
      "['SST', 'Science']\n",
      "['Pol', 'Algebra', 'Pol', 'Algebra']\n"
     ]
    }
   ],
   "source": [
    "for  i,j in student.items():\n",
    "    unique_sub = []\n",
    "    for k in range(0,len(j)+1):\n",
    "        if i[j]\n",
    " "
   ]
  },
  {
   "cell_type": "code",
   "execution_count": 57,
   "metadata": {},
   "outputs": [],
   "source": [
    "details = {\n",
    "  'Ankit': ('Python',),\n",
    "  'Riya': ('Python', 'Tableau'),\n",
    "  'Soham': ('SQL', 'Power BI'),\n",
    "  'Neha': ('Python', 'SQL', 'Power BI')\n",
    "}"
   ]
  },
  {
   "cell_type": "code",
   "execution_count": 58,
   "metadata": {},
   "outputs": [
    {
     "data": {
      "text/plain": [
       "{'Ankit': ('Python',),\n",
       " 'Riya': ('Python', 'Tableau'),\n",
       " 'Soham': ('SQL', 'Power BI'),\n",
       " 'Neha': ('Python', 'SQL', 'Power BI')}"
      ]
     },
     "execution_count": 58,
     "metadata": {},
     "output_type": "execute_result"
    }
   ],
   "source": [
    "details "
   ]
  },
  {
   "cell_type": "code",
   "execution_count": 70,
   "metadata": {},
   "outputs": [
    {
     "data": {
      "text/plain": [
       "{'Power BI', 'Python', 'SQL', 'Tableau'}"
      ]
     },
     "execution_count": 70,
     "metadata": {},
     "output_type": "execute_result"
    }
   ],
   "source": [
    "for i,j in details.items():\n",
    "    details[i] = list(j)\n",
    "\n",
    "l = []\n",
    "for i,j in details.items():\n",
    "    l.extend(j)\n",
    "\n",
    "s = set(l)\n",
    "s\n",
    "\n",
    "\n",
    "\n"
   ]
  },
  {
   "cell_type": "code",
   "execution_count": 71,
   "metadata": {},
   "outputs": [],
   "source": [
    "a = {'Power BI', 'Python', 'SQL', 'Tableau'}"
   ]
  },
  {
   "cell_type": "code",
   "execution_count": 72,
   "metadata": {},
   "outputs": [],
   "source": [
    "b = tuple(a)"
   ]
  }
 ],
 "metadata": {
  "kernelspec": {
   "display_name": "base",
   "language": "python",
   "name": "python3"
  },
  "language_info": {
   "codemirror_mode": {
    "name": "ipython",
    "version": 3
   },
   "file_extension": ".py",
   "mimetype": "text/x-python",
   "name": "python",
   "nbconvert_exporter": "python",
   "pygments_lexer": "ipython3",
   "version": "3.12.7"
  }
 },
 "nbformat": 4,
 "nbformat_minor": 5
}
