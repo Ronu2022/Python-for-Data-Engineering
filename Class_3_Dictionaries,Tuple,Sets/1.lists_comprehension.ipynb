{
 "cells": [
  {
   "cell_type": "markdown",
   "id": "b64c2105",
   "metadata": {},
   "source": [
    "#### return a list with square of the numbers"
   ]
  },
  {
   "cell_type": "code",
   "execution_count": 4,
   "id": "73671ebc",
   "metadata": {},
   "outputs": [
    {
     "data": {
      "text/plain": [
       "[1, 4, 9, 16, 25]"
      ]
     },
     "execution_count": 4,
     "metadata": {},
     "output_type": "execute_result"
    }
   ],
   "source": [
    "my_list = [1,2,3,4,5]\n",
    "my_list2 =list(map(lambda x: x**2, my_list))\n",
    "my_list2"
   ]
  },
  {
   "cell_type": "markdown",
   "id": "75b8c482",
   "metadata": {},
   "source": [
    "### using List Comprehensions"
   ]
  },
  {
   "cell_type": "code",
   "execution_count": 6,
   "id": "f8982da5",
   "metadata": {},
   "outputs": [
    {
     "data": {
      "text/plain": [
       "[1, 4, 9, 16, 25]"
      ]
     },
     "execution_count": 6,
     "metadata": {},
     "output_type": "execute_result"
    }
   ],
   "source": [
    "my_list = [1,2,3,4,5]\n",
    "output_list = [num**2 for num in my_list]\n",
    "output_list"
   ]
  },
  {
   "cell_type": "markdown",
   "id": "49e93c69",
   "metadata": {},
   "source": [
    "#### Get only the even numbers from a list:"
   ]
  },
  {
   "cell_type": "code",
   "execution_count": null,
   "id": "73b62cef",
   "metadata": {},
   "outputs": [
    {
     "data": {
      "text/plain": [
       "[2, 4]"
      ]
     },
     "execution_count": 9,
     "metadata": {},
     "output_type": "execute_result"
    }
   ],
   "source": [
    "\n",
    "\n",
    "my_list = [1,2,3,4,5]\n",
    "\n",
    "even_list = [num for num in my_list if num % 2 == 0]\n",
    "even_list"
   ]
  },
  {
   "cell_type": "code",
   "execution_count": 13,
   "id": "9e2595bc",
   "metadata": {},
   "outputs": [
    {
     "data": {
      "text/plain": [
       "[False, True, False, True, False, True, False, True]"
      ]
     },
     "execution_count": 13,
     "metadata": {},
     "output_type": "execute_result"
    }
   ],
   "source": [
    "my_list = [1,2,3,4,5,6,7,8]\n",
    "even_list = [True if num % 2 == 0 else False for num in my_list ]\n",
    "even_list"
   ]
  },
  {
   "cell_type": "code",
   "execution_count": null,
   "id": "8f34d531",
   "metadata": {},
   "outputs": [],
   "source": [
    "my_list = [1,2,3,4,5,6,7,8]\n",
    "even_list = [True if num % 2 == 0 else False for num in my_list]"
   ]
  }
 ],
 "metadata": {
  "kernelspec": {
   "display_name": "base",
   "language": "python",
   "name": "python3"
  },
  "language_info": {
   "codemirror_mode": {
    "name": "ipython",
    "version": 3
   },
   "file_extension": ".py",
   "mimetype": "text/x-python",
   "name": "python",
   "nbconvert_exporter": "python",
   "pygments_lexer": "ipython3",
   "version": "3.12.7"
  }
 },
 "nbformat": 4,
 "nbformat_minor": 5
}
