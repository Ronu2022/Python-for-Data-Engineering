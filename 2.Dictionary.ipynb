{
 "cells": [
  {
   "cell_type": "markdown",
   "id": "cab37f4f",
   "metadata": {},
   "source": [
    "# Dictionary"
   ]
  },
  {
   "cell_type": "code",
   "execution_count": 1,
   "id": "881e7546",
   "metadata": {},
   "outputs": [],
   "source": [
    "ipl = [\"CSK\",\"MI\",\"RCB\",\"RR\"]\n",
    "ipl_captains = {\"CSK\":\"MSD\",\"MI\":\"ROHIT\",\"RCB\":\"Kohli\"}\n"
   ]
  },
  {
   "cell_type": "markdown",
   "id": "d6ed2566",
   "metadata": {},
   "source": [
    "#### accessing the values"
   ]
  },
  {
   "cell_type": "code",
   "execution_count": 4,
   "id": "0ec9ec2b",
   "metadata": {},
   "outputs": [
    {
     "data": {
      "text/plain": [
       "'MSD'"
      ]
     },
     "execution_count": 4,
     "metadata": {},
     "output_type": "execute_result"
    }
   ],
   "source": [
    "ipl_captains = {\"CSK\":\"MSD\",\"MI\":\"ROHIT\",\"RCB\":\"Kohli\"}\n",
    "ipl_captains[\"CSK\"]"
   ]
  },
  {
   "cell_type": "code",
   "execution_count": 5,
   "id": "6d108453",
   "metadata": {},
   "outputs": [
    {
     "data": {
      "text/plain": [
       "['MSD', 'Gaikward']"
      ]
     },
     "execution_count": 5,
     "metadata": {},
     "output_type": "execute_result"
    }
   ],
   "source": [
    "ipl_captains = {\"CSK\":[\"MSD\",\"Gaikward\"],\"MI\":\"ROHIT\",\"RCB\":\"Kohli\"}\n",
    "ipl_captains[\"CSK\"]"
   ]
  },
  {
   "cell_type": "markdown",
   "id": "77b1e516",
   "metadata": {},
   "source": [
    "### update:"
   ]
  },
  {
   "cell_type": "code",
   "execution_count": 7,
   "id": "ef1c8f17",
   "metadata": {},
   "outputs": [
    {
     "data": {
      "text/plain": [
       "{'CSK': 'Hardik', 'MI': 'ROHIT', 'RCB': 'Kohli'}"
      ]
     },
     "execution_count": 7,
     "metadata": {},
     "output_type": "execute_result"
    }
   ],
   "source": [
    "ipl_captains = {\"CSK\":\"MSD\",\"MI\":\"ROHIT\",\"RCB\":\"Kohli\"}\n",
    "ipl_captains[\"CSK\"] = \"Hardik\"\n",
    "ipl_captains"
   ]
  },
  {
   "cell_type": "code",
   "execution_count": 9,
   "id": "43862272",
   "metadata": {},
   "outputs": [
    {
     "data": {
      "text/plain": [
       "{'CSK': ['MSD', 'Gaikward', 'Ajay'], 'MI': 'ROHIT', 'RCB': 'Kohli'}"
      ]
     },
     "execution_count": 9,
     "metadata": {},
     "output_type": "execute_result"
    }
   ],
   "source": [
    "ipl_captains = {\"CSK\":[\"MSD\",\"Gaikward\"],\"MI\":\"ROHIT\",\"RCB\":\"Kohli\"}\n",
    "ipl_captains[\"CSK\"].append(\"Ajay\") #note the value of the key CSK is a List -> Hence linst functionnns are applicable.\n",
    "ipl_captains"
   ]
  },
  {
   "cell_type": "code",
   "execution_count": 11,
   "id": "cfe8d8fa",
   "metadata": {},
   "outputs": [
    {
     "data": {
      "text/plain": [
       "{'CSK': ['MSD', 'Gaikward'], 'MI': ['Rohit', 'Hardik'], 'RCB': 'Kohli'}"
      ]
     },
     "execution_count": 11,
     "metadata": {},
     "output_type": "execute_result"
    }
   ],
   "source": [
    "## add one more to MI\n",
    "ipl_captains = {\"CSK\":[\"MSD\",\"Gaikward\"],\"MI\":\"ROHIT\",\"RCB\":\"Kohli\"}\n",
    "# note: till now the value of MI is in Str, thus append can't be applied:\n",
    "\n",
    "# way 1:\n",
    "\n",
    "if isinstance(ipl_captains[\"MI\"],str):\n",
    "    ipl_captains[\"MI\"] = [\"Rohit\"]\n",
    "\n",
    "ipl_captains[\"MI\"].append(\"Hardik\")\n",
    "ipl_captains"
   ]
  },
  {
   "cell_type": "code",
   "execution_count": 18,
   "id": "f136b8ef",
   "metadata": {},
   "outputs": [],
   "source": [
    "if isinstance(ipl_captains[\"MI\"],list):\n",
    "    ipl_captains[\"MI\"] = []\n",
    "\n"
   ]
  },
  {
   "cell_type": "code",
   "execution_count": 19,
   "id": "09b513d8",
   "metadata": {},
   "outputs": [
    {
     "data": {
      "text/plain": [
       "{'CSK': ['MSD', 'Gaikward'], 'MI': [], 'RCB': 'Kohli', '': []}"
      ]
     },
     "execution_count": 19,
     "metadata": {},
     "output_type": "execute_result"
    }
   ],
   "source": [
    "ipl_captains"
   ]
  },
  {
   "cell_type": "markdown",
   "id": "299f33a0",
   "metadata": {},
   "source": [
    "### Accessing:"
   ]
  },
  {
   "cell_type": "code",
   "execution_count": 20,
   "id": "d63a7b97",
   "metadata": {},
   "outputs": [
    {
     "data": {
      "text/plain": [
       "'MSD'"
      ]
     },
     "execution_count": 20,
     "metadata": {},
     "output_type": "execute_result"
    }
   ],
   "source": [
    "\n",
    "ipl_captains = {\"CSK\":[\"MSD\",\"Gaikward\"],\"MI\":\"ROHIT\",\"RCB\":\"Kohli\"}\n",
    "first_captain_csk = ipl_captains[\"CSK\"][0]\n",
    "first_captain_csk"
   ]
  },
  {
   "cell_type": "code",
   "execution_count": 21,
   "id": "95af59b2",
   "metadata": {},
   "outputs": [
    {
     "data": {
      "text/plain": [
       "'Gaikward'"
      ]
     },
     "execution_count": 21,
     "metadata": {},
     "output_type": "execute_result"
    }
   ],
   "source": [
    "\n",
    "ipl_captains = {\"CSK\":[\"MSD\",\"Gaikward\"],\"MI\":\"ROHIT\",\"RCB\":\"Kohli\"}\n",
    "second_captain_csk = ipl_captains[\"CSK\"][1]\n",
    "second_captain_csk"
   ]
  },
  {
   "cell_type": "markdown",
   "id": "9c9f909c",
   "metadata": {},
   "source": [
    "## HAndling JSON In Python"
   ]
  },
  {
   "cell_type": "markdown",
   "id": "6698d4c5",
   "metadata": {},
   "source": [
    "In Python, JSON data is typically handled using dictionaries (with nested lists or other dicts). Here's a simple JSON-like structure in Python:"
   ]
  },
  {
   "cell_type": "code",
   "execution_count": 22,
   "id": "82c5dcd3",
   "metadata": {},
   "outputs": [
    {
     "name": "stdout",
     "output_type": "stream",
     "text": [
      "Alice\n"
     ]
    }
   ],
   "source": [
    "person = {\n",
    "    \"name\": \"Alice\",\n",
    "    \"age\": 30,\n",
    "    \"city\": \"Toronto\"\n",
    "}\n",
    "print(person[\"name\"])\n"
   ]
  },
  {
   "cell_type": "markdown",
   "id": "6b6cedc2",
   "metadata": {},
   "source": [
    "#### Nested Dictionary (JSON structure)"
   ]
  },
  {
   "cell_type": "markdown",
   "id": "40b22523",
   "metadata": {},
   "source": [
    "##### Access Address:"
   ]
  },
  {
   "cell_type": "code",
   "execution_count": 23,
   "id": "3312f78c",
   "metadata": {},
   "outputs": [],
   "source": [
    "person = {\n",
    "    \"name\": \"Alice\",\n",
    "    \"age\": 30,\n",
    "    \"address\": {\n",
    "        \"city\": \"Toronto\",\n",
    "        \"zip\": \"M5H 2N2\"\n",
    "    }\n",
    "}\n"
   ]
  },
  {
   "cell_type": "code",
   "execution_count": 24,
   "id": "e6093c1b",
   "metadata": {},
   "outputs": [
    {
     "data": {
      "text/plain": [
       "'Toronto'"
      ]
     },
     "execution_count": 24,
     "metadata": {},
     "output_type": "execute_result"
    }
   ],
   "source": [
    "person[\"address\"][\"city\"]"
   ]
  },
  {
   "cell_type": "code",
   "execution_count": 25,
   "id": "4d031464",
   "metadata": {},
   "outputs": [
    {
     "data": {
      "text/plain": [
       "'M5H 2N2'"
      ]
     },
     "execution_count": 25,
     "metadata": {},
     "output_type": "execute_result"
    }
   ],
   "source": [
    "person[\"address\"][\"zip\"]"
   ]
  },
  {
   "cell_type": "markdown",
   "id": "13f33c31",
   "metadata": {},
   "source": [
    "#### Accessing a list inside a dictionary."
   ]
  },
  {
   "cell_type": "markdown",
   "id": "e9a535c8",
   "metadata": {},
   "source": [
    "###### Access 2nd in hobbies:"
   ]
  },
  {
   "cell_type": "code",
   "execution_count": 26,
   "id": "d5727392",
   "metadata": {},
   "outputs": [],
   "source": [
    "person = {\n",
    "    \"name\": \"Alice\",\n",
    "    \"hobbies\": [\"reading\", \"cycling\", \"painting\"]\n",
    "}\n"
   ]
  },
  {
   "cell_type": "code",
   "execution_count": 27,
   "id": "82bd7ccb",
   "metadata": {},
   "outputs": [
    {
     "data": {
      "text/plain": [
       "'cycling'"
      ]
     },
     "execution_count": 27,
     "metadata": {},
     "output_type": "execute_result"
    }
   ],
   "source": [
    "person[\"hobbies\"][1]"
   ]
  },
  {
   "cell_type": "code",
   "execution_count": 28,
   "id": "2a8d3fde",
   "metadata": {},
   "outputs": [
    {
     "data": {
      "text/plain": [
       "'reading'"
      ]
     },
     "execution_count": 28,
     "metadata": {},
     "output_type": "execute_result"
    }
   ],
   "source": [
    "person[\"hobbies\"][0]"
   ]
  },
  {
   "cell_type": "code",
   "execution_count": 29,
   "id": "bf4f9762",
   "metadata": {},
   "outputs": [
    {
     "data": {
      "text/plain": [
       "'painting'"
      ]
     },
     "execution_count": 29,
     "metadata": {},
     "output_type": "execute_result"
    }
   ],
   "source": [
    "person[\"hobbies\"][2]"
   ]
  },
  {
   "cell_type": "markdown",
   "id": "382e33ff",
   "metadata": {},
   "source": [
    "#### List of dictionaries"
   ]
  },
  {
   "cell_type": "code",
   "execution_count": 30,
   "id": "a3ce539b",
   "metadata": {},
   "outputs": [],
   "source": [
    "people = [\n",
    "    {\"name\": \"Alice\", \"age\": 30},\n",
    "    {\"name\": \"Bob\", \"age\": 25},\n",
    "    {\"name\": \"Charlie\", \"age\": 35}\n",
    "]"
   ]
  },
  {
   "cell_type": "markdown",
   "id": "8bfbfa5e",
   "metadata": {},
   "source": [
    "###### Get me the name of the second person"
   ]
  },
  {
   "cell_type": "code",
   "execution_count": 31,
   "id": "809c5a41",
   "metadata": {},
   "outputs": [
    {
     "data": {
      "text/plain": [
       "'Bob'"
      ]
     },
     "execution_count": 31,
     "metadata": {},
     "output_type": "execute_result"
    }
   ],
   "source": [
    "people[1][\"name\"]"
   ]
  },
  {
   "cell_type": "code",
   "execution_count": 32,
   "id": "3d7e0acc",
   "metadata": {},
   "outputs": [
    {
     "data": {
      "text/plain": [
       "'Charlie'"
      ]
     },
     "execution_count": 32,
     "metadata": {},
     "output_type": "execute_result"
    }
   ],
   "source": [
    "people[2][\"name\"]"
   ]
  },
  {
   "cell_type": "markdown",
   "id": "0e0dbf3a",
   "metadata": {},
   "source": [
    "#####  access the role of the third player (\"Jadeja\"):"
   ]
  },
  {
   "cell_type": "code",
   "execution_count": 33,
   "id": "1a0fb262",
   "metadata": {},
   "outputs": [],
   "source": [
    "data = {\n",
    "    \"team\": \"CSK\",\n",
    "    \"players\": [\n",
    "        {\"name\": \"Dhoni\", \"role\": \"Captain\"},\n",
    "        {\"name\": \"Ruturaj\", \"role\": \"Opener\"},\n",
    "        {\"name\": \"Jadeja\", \"role\": \"All-Rounder\"}\n",
    "    ]\n",
    "}\n"
   ]
  },
  {
   "cell_type": "code",
   "execution_count": 34,
   "id": "b0f3a81c",
   "metadata": {},
   "outputs": [
    {
     "data": {
      "text/plain": [
       "'Jadeja'"
      ]
     },
     "execution_count": 34,
     "metadata": {},
     "output_type": "execute_result"
    }
   ],
   "source": [
    "data[\"players\"][2][\"name\"]"
   ]
  },
  {
   "cell_type": "code",
   "execution_count": 35,
   "id": "475f7a46",
   "metadata": {},
   "outputs": [
    {
     "data": {
      "text/plain": [
       "'Dhoni'"
      ]
     },
     "execution_count": 35,
     "metadata": {},
     "output_type": "execute_result"
    }
   ],
   "source": [
    "data[\"players\"][0][\"name\"]"
   ]
  },
  {
   "cell_type": "markdown",
   "id": "c1021547",
   "metadata": {},
   "source": [
    "#### Loop through the name of the players"
   ]
  },
  {
   "cell_type": "code",
   "execution_count": 42,
   "id": "0f93f204",
   "metadata": {},
   "outputs": [
    {
     "name": "stdout",
     "output_type": "stream",
     "text": [
      "name\n",
      "role\n",
      "name\n",
      "role\n",
      "name\n",
      "role\n"
     ]
    }
   ],
   "source": [
    "for i in data[\"players\"]:\n",
    "    for j in i:\n",
    "        print(j)"
   ]
  },
  {
   "cell_type": "code",
   "execution_count": 47,
   "id": "69cd765f",
   "metadata": {},
   "outputs": [
    {
     "name": "stdout",
     "output_type": "stream",
     "text": [
      "{'name': 'Dhoni', 'role': 'Captain'}\n",
      "name : Dhoni\n",
      "role : Captain\n",
      "------------------------------------------\n",
      "{'name': 'Ruturaj', 'role': 'Opener'}\n",
      "name : Ruturaj\n",
      "role : Opener\n",
      "------------------------------------------\n",
      "{'name': 'Jadeja', 'role': 'All-Rounder'}\n",
      "name : Jadeja\n",
      "role : All-Rounder\n",
      "------------------------------------------\n"
     ]
    }
   ],
   "source": [
    "for i in data[\"players\"]:\n",
    "    print(i)\n",
    "    for j in i:\n",
    "        print(f'{j} : {i[j]}')\n",
    "    print('------------------------------------------')\n",
    "\n"
   ]
  },
  {
   "cell_type": "code",
   "execution_count": 48,
   "id": "75ce5785",
   "metadata": {},
   "outputs": [
    {
     "name": "stdout",
     "output_type": "stream",
     "text": [
      "Dhoni\n",
      "Ruturaj\n",
      "Jadeja\n"
     ]
    }
   ],
   "source": [
    "for i in data[\"players\"]:\n",
    "    print(i[\"name\"])"
   ]
  },
  {
   "cell_type": "code",
   "execution_count": 49,
   "metadata": {},
   "outputs": [],
   "source": [
    "ipl_info = {\n",
    "    \"CSK\" : {\"team_name\": \"Chennai Super Kings\", \"Captain\": \"MSD\"},\n",
    "    \"MI\": {\"team_name\": \"Mumbai Indians\", \"captain\": \"Rohit Sharma\" }\n",
    "}\n"
   ]
  },
  {
   "cell_type": "code",
   "execution_count": 50,
   "metadata": {},
   "outputs": [
    {
     "data": {
      "text/plain": [
       "'Chennai Super Kings'"
      ]
     },
     "execution_count": 50,
     "metadata": {},
     "output_type": "execute_result"
    }
   ],
   "source": [
    "ipl_info[\"CSK\"][\"team_name\"]"
   ]
  },
  {
   "cell_type": "code",
   "execution_count": 52,
   "metadata": {},
   "outputs": [
    {
     "data": {
      "text/plain": [
       "'MSD'"
      ]
     },
     "execution_count": 52,
     "metadata": {},
     "output_type": "execute_result"
    }
   ],
   "source": [
    "ipl_info[\"CSK\"][\"Captain\"]"
   ]
  },
  {
   "cell_type": "markdown",
   "id": "a62780e4",
   "metadata": {},
   "source": [
    "## Deleting In a Dictionary"
   ]
  },
  {
   "cell_type": "code",
   "execution_count": 53,
   "metadata": {},
   "outputs": [],
   "source": [
    "del ipl_info[\"CSK\"]"
   ]
  },
  {
   "cell_type": "code",
   "execution_count": 54,
   "metadata": {},
   "outputs": [
    {
     "data": {
      "text/plain": [
       "{'MI': {'team_name': 'Mumbai Indians', 'captain': 'Rohit Sharma'}}"
      ]
     },
     "execution_count": 54,
     "metadata": {},
     "output_type": "execute_result"
    }
   ],
   "source": [
    "ipl_info"
   ]
  },
  {
   "cell_type": "markdown",
   "id": "dbe97059",
   "metadata": {},
   "source": [
    "# Count the total number of occurences of each character in a word:\n"
   ]
  },
  {
   "cell_type": "code",
   "execution_count": 58,
   "metadata": {},
   "outputs": [
    {
     "data": {
      "text/plain": [
       "{'d': 1, 'a': 2, 't': 1, ' ': 1, 'e': 3, 'n': 3, 'g': 2, 'i': 2, 'r': 1}"
      ]
     },
     "execution_count": 58,
     "metadata": {},
     "output_type": "execute_result"
    }
   ],
   "source": [
    "word = \"Data Engineering\".lower()\n",
    "character_count = {}\n",
    "for char in word:\n",
    "    if char not in character_count:\n",
    "        character_count[char] = 1\n",
    "    else:\n",
    "        character_count[char] = character_count[char] + 1\n",
    "character_count\n"
   ]
  },
  {
   "cell_type": "markdown",
   "id": "9c04087c",
   "metadata": {},
   "source": [
    "## Clearing a dictionary"
   ]
  },
  {
   "cell_type": "code",
   "execution_count": 59,
   "metadata": {},
   "outputs": [],
   "source": [
    "ipl_info = {\n",
    "    \"CSK\" : {\"team_name\": \"Chennai Super Kings\", \"Captain\": \"MSD\"},\n",
    "    \"MI\": {\"team_name\": \"Mumbai Indians\", \"captain\": \"Rohit Sharma\" }\n",
    "}"
   ]
  },
  {
   "cell_type": "code",
   "execution_count": 62,
   "metadata": {},
   "outputs": [],
   "source": [
    "ipl_info.clear()"
   ]
  },
  {
   "cell_type": "code",
   "execution_count": 63,
   "metadata": {},
   "outputs": [
    {
     "data": {
      "text/plain": [
       "{}"
      ]
     },
     "execution_count": 63,
     "metadata": {},
     "output_type": "execute_result"
    }
   ],
   "source": [
    "ipl_info"
   ]
  },
  {
   "cell_type": "markdown",
   "id": "bd73f857",
   "metadata": {},
   "source": [
    "## setdefault()\n",
    "- dictionary.setdefault(key, default_value)\n",
    "\n",
    "- If key exists → returns the current value (does not change the dictionary).\n",
    "\n",
    "- If key does not exist → adds key: default_value to the dictionary and returns default_value."
   ]
  },
  {
   "cell_type": "code",
   "execution_count": 74,
   "metadata": {},
   "outputs": [
    {
     "data": {
      "text/plain": [
       "{'name': 'Ajay'}"
      ]
     },
     "execution_count": 74,
     "metadata": {},
     "output_type": "execute_result"
    }
   ],
   "source": [
    "my_dict = {\"name\": \"Ajay\"}\n",
    "\n",
    "result = my_dict.setdefault(\"name\",\"Rahul\")\n",
    "my_dict # though we had fed Rahul, it didnt wiork because the Key already existed. So it returned the same"
   ]
  },
  {
   "cell_type": "code",
   "execution_count": null,
   "metadata": {},
   "outputs": [
    {
     "data": {
      "text/plain": [
       "{'name': 'Ajay', 'age': 30}"
      ]
     },
     "execution_count": 75,
     "metadata": {},
     "output_type": "execute_result"
    }
   ],
   "source": [
    "my_dict = {\"name\": \"Ajay\"}\n",
    "result = my_dict.setdefault(\"age\",30)\n",
    "my_dict # here the key \"age\" wasn't there. Thus, it created one more"
   ]
  },
  {
   "cell_type": "markdown",
   "id": "9cc6cf25",
   "metadata": {},
   "source": [
    "#### setdefault() with lists for merging/appending?"
   ]
  },
  {
   "cell_type": "markdown",
   "id": "e719976f",
   "metadata": {},
   "source": [
    " ##### setdefault() with a list"
   ]
  },
  {
   "cell_type": "code",
   "execution_count": null,
   "metadata": {},
   "outputs": [
    {
     "data": {
      "text/plain": [
       "{'HR': ['A', 'l', 'i', 'c', 'e', 'C', 'h', 'a', 'r', 'l', 'i', 'e'],\n",
       " 'Finance': ['B', 'o', 'b', 'E', 'v', 'e'],\n",
       " 'IT': ['D', 'a', 'v', 'i', 'd']}"
      ]
     },
     "execution_count": 80,
     "metadata": {},
     "output_type": "execute_result"
    }
   ],
   "source": [
    "employees = [\n",
    "    (\"HR\", \"Alice\"),\n",
    "    (\"Finance\", \"Bob\"),\n",
    "    (\"HR\", \"Charlie\"),\n",
    "    (\"IT\", \"David\"),\n",
    "    (\"Finance\", \"Eve\")\n",
    "]\n",
    "\n",
    "group_dic = {}\n",
    "for dept, name in employees:\n",
    "    group_dic.setdefault(dept,[]).extend(name) # why extend is not working ? because here the value that is name is a string not a list.\n",
    "group_dic"
   ]
  },
  {
   "cell_type": "code",
   "execution_count": null,
   "metadata": {},
   "outputs": [
    {
     "data": {
      "text/plain": [
       "{'HR': ['Alice', 'Charlie'], 'Finance': ['Bob', 'Eve'], 'IT': ['David']}"
      ]
     },
     "execution_count": 83,
     "metadata": {},
     "output_type": "execute_result"
    },
    {
     "ename": "",
     "evalue": "",
     "output_type": "error",
     "traceback": [
      "\u001b[1;31mThe Kernel crashed while executing code in the current cell or a previous cell. \n",
      "\u001b[1;31mPlease review the code in the cell(s) to identify a possible cause of the failure. \n",
      "\u001b[1;31mClick <a href='https://aka.ms/vscodeJupyterKernelCrash'>here</a> for more info. \n",
      "\u001b[1;31mView Jupyter <a href='command:jupyter.viewOutput'>log</a> for further details."
     ]
    }
   ],
   "source": [
    "employees = [\n",
    "    (\"HR\", \"Alice\"),\n",
    "    (\"Finance\", \"Bob\"),\n",
    "    (\"HR\", \"Charlie\"),\n",
    "    (\"IT\", \"David\"),\n",
    "    (\"Finance\", \"Eve\")\n",
    "]\n",
    "\n",
    "g_dict = {}\n",
    "for dept, name in employees:\n",
    "    g_dict.setdefault(dept,[]).append(name) # marke the value(name) is a string and hence append is used.\n",
    "g_dict"
   ]
  },
  {
   "cell_type": "markdown",
   "id": "567fbe0d",
   "metadata": {},
   "source": [
    "## Concantenation"
   ]
  },
  {
   "cell_type": "markdown",
   "id": "a26d475f",
   "metadata": {},
   "source": [
    "## Get the copntent of 2 dictionaries into a third dictionary:"
   ]
  },
  {
   "cell_type": "code",
   "execution_count": 65,
   "metadata": {},
   "outputs": [],
   "source": [
    "dic_1 = {\"Name\": [\"Ajay\",\"Rahul\",\"Sridhar\"]}\n",
    "dic_2 = {\"Name\": [\"Raju\",\"Atul\",\"Basu\"]}\n",
    "\n"
   ]
  },
  {
   "cell_type": "code",
   "execution_count": 71,
   "metadata": {},
   "outputs": [
    {
     "data": {
      "text/plain": [
       "{'Name': ['Ajay', 'Rahul', 'Sridhar', 'Raju', 'Atul', 'Basu']}"
      ]
     },
     "execution_count": 71,
     "metadata": {},
     "output_type": "execute_result"
    }
   ],
   "source": [
    "dic_3 = {}\n",
    "for d in (dic_1,dic_2):\n",
    "    for key,value in d.items():\n",
    "        dic_3.setdefault(key,[]).extend(value)\n",
    "dic_3\n",
    "\n"
   ]
  },
  {
   "cell_type": "code",
   "execution_count": null,
   "metadata": {},
   "outputs": [
    {
     "data": {
      "text/plain": [
       "{'Name': ['Raju', 'Atul', 'Basu']}"
      ]
     },
     "execution_count": 67,
     "metadata": {},
     "output_type": "execute_result"
    }
   ],
   "source": [
    "\n",
    "dic_3"
   ]
  },
  {
   "cell_type": "code",
   "execution_count": null,
   "metadata": {},
   "outputs": [],
   "source": [
    "    "
   ]
  }
 ],
 "metadata": {
  "kernelspec": {
   "display_name": "base",
   "language": "python",
   "name": "python3"
  },
  "language_info": {
   "codemirror_mode": {
    "name": "ipython",
    "version": 3
   },
   "file_extension": ".py",
   "mimetype": "text/x-python",
   "name": "python",
   "nbconvert_exporter": "python",
   "pygments_lexer": "ipython3",
   "version": "3.12.7"
  }
 },
 "nbformat": 4,
 "nbformat_minor": 5
}
