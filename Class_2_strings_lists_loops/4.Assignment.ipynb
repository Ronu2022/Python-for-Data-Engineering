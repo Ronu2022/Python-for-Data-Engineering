{
 "cells": [
  {
   "cell_type": "markdown",
   "id": "d5db2c2c",
   "metadata": {},
   "source": [
    "1- Vowel Counter : Ask the user to enter a sentence.\n",
    "\n",
    "Count how many vowels (a, e, i, o, u) are in the sentence\n",
    "\n",
    "Print the count "
   ]
  },
  {
   "cell_type": "code",
   "execution_count": 6,
   "id": "006e63b1",
   "metadata": {},
   "outputs": [],
   "source": [
    "def count_vowels(s):\n",
    "    vowels = 'aeiouAEIOU'\n",
    "    return sum(1 for char in s if char in vowels)\n"
   ]
  },
  {
   "cell_type": "code",
   "execution_count": 10,
   "id": "16f31a4f",
   "metadata": {},
   "outputs": [
    {
     "name": "stdout",
     "output_type": "stream",
     "text": [
      "The number of vowels in teh sentence is 13: \n"
     ]
    }
   ],
   "source": [
    "s = input(\"Enter the Sentence You want to Count Vowels in: \")\n",
    "print(\"The number of vowels in teh sentence is {}: \".format(count_vowels(s)))"
   ]
  },
  {
   "cell_type": "markdown",
   "id": "7f8614d3",
   "metadata": {},
   "source": [
    "\n",
    "2- Ask the user to input a word.\n",
    "Check if the word is a palindrome (same forward and backward) eg : madam\n"
   ]
  },
  {
   "cell_type": "code",
   "execution_count": 31,
   "id": "036c87eb",
   "metadata": {},
   "outputs": [
    {
     "name": "stdout",
     "output_type": "stream",
     "text": [
      "Palindrome\n"
     ]
    }
   ],
   "source": [
    "a = input(\"Enter the first word: \")\n",
    "ol = []\n",
    "nl = []\n",
    "for i in range(len(a)):\n",
    "    ol.append(a[i])\n",
    "    \n",
    "for b in range(-1,-len(a)-1,-1):\n",
    "    nl.append(a[b])\n",
    "if ol == nl:\n",
    "    print(\"Palindrome\")\n",
    "else:\n",
    "    print(\"Not a Palindrome\")"
   ]
  },
  {
   "cell_type": "markdown",
   "id": "ac9bd197",
   "metadata": {},
   "source": [
    "\n",
    "### 3- write a program which takes the name of the user as input and replace all the occurence of character 'a' in the name to 'b' and print it.\n"
   ]
  },
  {
   "cell_type": "code",
   "execution_count": 14,
   "id": "21a09629",
   "metadata": {},
   "outputs": [
    {
     "name": "stdout",
     "output_type": "stream",
     "text": [
      "Sonu\n"
     ]
    }
   ],
   "source": [
    "n = input(\"Enter your Name\")\n",
    "b = input(\"What you want to replace ?\")\n",
    "c = input(\"Enter the replacement\")\n",
    "n = n.replace(b,c)\n",
    "print(n)"
   ]
  },
  {
   "cell_type": "markdown",
   "id": "44f66886",
   "metadata": {},
   "source": [
    "### 4- write a program which takes city name from user input. irrespective of in which case user enters the city name, print the city name in camel case meaning first letter should be capital and rest in small.\n",
    "\n"
   ]
  },
  {
   "cell_type": "code",
   "execution_count": 17,
   "id": "d625428a",
   "metadata": {},
   "outputs": [
    {
     "name": "stdout",
     "output_type": "stream",
     "text": [
      "Bhubaneswar\n"
     ]
    }
   ],
   "source": [
    "city = input(\"Enter the city name:\")\n",
    "city = city.capitalize()\n",
    "print(city)"
   ]
  },
  {
   "cell_type": "markdown",
   "id": "24549c32",
   "metadata": {},
   "source": [
    "### 5- write a program which takes the name of the user as input and print the index of character 'a' in the string. if 'a' is not there then return -1."
   ]
  },
  {
   "cell_type": "code",
   "execution_count": null,
   "id": "02310c0f",
   "metadata": {},
   "outputs": [],
   "source": [
    "def check_index(a):\n",
    "    l  = []\n",
    "    ns = a.lower()\n",
    "    for i in range(0,len(ns)):\n",
    "        if ns[i] == 'a':\n",
    "            l.append(i)\n",
    "    if l: # way to check len(l) > 0\n",
    "        return l\n",
    "    else:\n",
    "        return -1\n",
    "\n"
   ]
  },
  {
   "cell_type": "code",
   "execution_count": 48,
   "id": "766f67b0",
   "metadata": {},
   "outputs": [
    {
     "data": {
      "text/plain": [
       "[1]"
      ]
     },
     "execution_count": 48,
     "metadata": {},
     "output_type": "execute_result"
    }
   ],
   "source": [
    "check_index(\"Raju\")"
   ]
  },
  {
   "cell_type": "markdown",
   "id": "f05cb3f6",
   "metadata": {},
   "source": [
    "### 6-  Display the number of letter \"a\" in the below string"
   ]
  },
  {
   "cell_type": "code",
   "execution_count": 51,
   "id": "16511d62",
   "metadata": {},
   "outputs": [
    {
     "name": "stdout",
     "output_type": "stream",
     "text": [
      "The count of letter a in the word antidisestablishmentarianism is 4\n"
     ]
    }
   ],
   "source": [
    "word = input(\"enter the word: \")\n",
    "letter = input(\"Enter the letter you wish to count: \")\n",
    "def count_letter(word,letter):\n",
    "    lw = word.lower()\n",
    "    ll=  letter.lower()\n",
    "    return sum(1 for char in lw if char in ll)\n",
    "\n",
    "cl = count_letter(word,letter)\n",
    "print(\"The count of letter {} in the word {} is {}\".format(letter,word,cl))\n"
   ]
  },
  {
   "cell_type": "markdown",
   "id": "07c19727",
   "metadata": {},
   "source": [
    " ### 7- take 1 input from user in comma separated format  : first name , last name and age . Display the information in below format:\n",
    "exmaple \n",
    "input : MoHit,ShArma,32\n",
    "\n",
    "Display : my name is Mohit Sharma and I am 32 years old.\n",
    "\n",
    "note that first letter of first name and last name both should be in capital letters and rest in small. "
   ]
  },
  {
   "cell_type": "code",
   "execution_count": 70,
   "id": "db9d703c",
   "metadata": {},
   "outputs": [
    {
     "name": "stdout",
     "output_type": "stream",
     "text": [
      "My Name is Mohit Sharma and I am 32 years old.\n"
     ]
    }
   ],
   "source": [
    "details = input(\"Enter First Name, last Name, Age (Separated by Comma): \")\n",
    "sd = details.split(',')\n",
    "name = sd[0].capitalize() + ' ' + sd[1].capitalize()\n",
    "age = sd[2]\n",
    "print(f\"My Name is {name} and I am {age} years old.\")"
   ]
  },
  {
   "cell_type": "markdown",
   "id": "572f8eaf",
   "metadata": {},
   "source": [
    "### 8-take 3 inputs from user : first name , last name and company name. create the email alias for the user and display it.  Email alias is first 2 letters of first name , last 3 letters of last name and @company.com\n",
    "example \n",
    "first name : MOhit\n",
    "last name : sharma \n",
    "company : infosys\n",
    "\n",
    "Display : morma@infosys.com \n",
    "\n",
    "note full email id should be in lower case"
   ]
  },
  {
   "cell_type": "code",
   "execution_count": 82,
   "id": "4d7bc071",
   "metadata": {},
   "outputs": [
    {
     "name": "stdout",
     "output_type": "stream",
     "text": [
      "morma@studyiq.com\n"
     ]
    }
   ],
   "source": [
    "first_name = input(\"Enter the first Name: \")\n",
    "last_name = input(\"Enter the last Name: \")\n",
    "company_name = input(\"Enter the Company Name: \")\n",
    "\n",
    "email = first_name[0:2].lower() + last_name[-3:].lower() + '@' +  company_name.lower() + '.com'\n",
    "print(f'{email}')"
   ]
  },
  {
   "cell_type": "markdown",
   "id": "4a1677b3",
   "metadata": {},
   "source": [
    "### 9- Even Number Printer : Ask the user for a number n.\n",
    "\n",
    "Print all even numbers from 1 to n \n",
    "\n",
    "eg : input 7\n",
    "output \n",
    "2\n",
    "4\n",
    "6"
   ]
  },
  {
   "cell_type": "code",
   "execution_count": 89,
   "id": "df0c43d8",
   "metadata": {},
   "outputs": [
    {
     "name": "stdout",
     "output_type": "stream",
     "text": [
      "2\n",
      "4\n",
      "6\n"
     ]
    }
   ],
   "source": [
    "number = int(input(\"Enter the number: \"))\n",
    "n = number + 1\n",
    "for i in range(1,n):\n",
    "    if i % 2 == 0: \n",
    "        print(i)\n",
    "        continue"
   ]
  },
  {
   "cell_type": "markdown",
   "id": "0bcb50af",
   "metadata": {},
   "source": [
    "### 10- Mask Email ID : Ask the user to enter their email address (ending with @gmail.com)\n",
    "\n",
    "Mask everything except the first and last character of the username\n",
    "\n",
    "Keep the total length of the username same\n",
    "\n",
    "eg:\n",
    "Input: ronumohanty@gmail.com\n",
    "\n",
    "Output: r********y@gmail.com\n",
    "\n"
   ]
  },
  {
   "cell_type": "code",
   "execution_count": 106,
   "id": "4b0204e5",
   "metadata": {},
   "outputs": [
    {
     "name": "stdout",
     "output_type": "stream",
     "text": [
      "r*********y@gmail.com\n"
     ]
    }
   ],
   "source": [
    "email = input(\"Enter the Email Id: \")\n",
    "first_part_email = email.split('@',1)[0]\n",
    "first_letter = first_part_email[0]\n",
    "last_letter = first_part_email[-1]\n",
    "\n",
    "len_first_part = len(first_part_email)\n",
    "len_dif = len_first_part - 2\n",
    "masked_email = first_letter + len_dif * '*' +  last_letter + '@' + 'gmail.com'\n",
    "print(f'{masked_email}')"
   ]
  },
  {
   "cell_type": "markdown",
   "id": "c3af9812",
   "metadata": {},
   "source": [
    "### 11 - Password Analyzer : Ask the user to enter a password.\n",
    "Your program should print:\n",
    "\n",
    "Total number of characters\n",
    "\n",
    "Number of uppercase letters\n",
    "\n",
    "Number of lowercase letters\n",
    "\n",
    "Number of digits\n",
    "\n",
    "Number of special characters (anything that is not letter or digit)\n",
    "\n",
    "eg:\n",
    "Input: Ankit@123\n",
    "Output:\n",
    "\n",
    "Total characters: 9\n",
    "\n",
    "Uppercase letters: 1\n",
    "\n",
    "Lowercase letters: 4\n",
    "\n",
    "Digits: 3\n",
    "\n",
    "Special characters: 1\n"
   ]
  },
  {
   "cell_type": "markdown",
   "id": "84d978ed",
   "metadata": {},
   "source": []
  },
  {
   "cell_type": "code",
   "execution_count": 107,
   "id": "39924951",
   "metadata": {},
   "outputs": [
    {
     "name": "stdout",
     "output_type": "stream",
     "text": [
      "Total Characters: 9\n",
      "Number of Upper Case Characters: 1\n",
      "Number of Lower Case Characters: 4\n",
      "Digits: 1\n",
      "Special Characters: 1\n"
     ]
    }
   ],
   "source": [
    "p = input(\"Enter the password: \")\n",
    "u = 0\n",
    "l = 0\n",
    "d = 0\n",
    "s  = 0\n",
    "tc = len(p)\n",
    "for char in p:\n",
    "    \n",
    "    if char.isupper():\n",
    "        u = u + 1\n",
    "    elif char.islower():\n",
    "        l = l+ 1\n",
    "    elif char.isdigit():\n",
    "        d = d + 1\n",
    "    else:\n",
    "        s = s + 1\n",
    "print(f\"Total Characters: {tc}\")\n",
    "print(f\"Number of Upper Case Characters: {u}\")\n",
    "print(f\"Number of Lower Case Characters: {l}\")\n",
    "print(f\"Digits: {u}\")\n",
    "print(f\"Special Characters: {u}\")"
   ]
  },
  {
   "cell_type": "markdown",
   "id": "c30bfe2e",
   "metadata": {},
   "source": [
    "### 12 - Password Strength Checker: Ask the user to enter a password.\n",
    "Check the password against the following rules:\n",
    "\n",
    "Rules:\n",
    "\n",
    "Must be at least 8 characters\n",
    "\n",
    "Must contain at least one uppercase letter\n",
    "\n",
    "Must contain at least one lowercase letter\n",
    "\n",
    "Must contain at least one digit\n",
    "\n",
    "Must contain at least one special character (!@#$%^&*()_+-=, etc.)((anything that is not letter or digit))\n",
    "\n",
    "Output:\n",
    "If all rules are satisfied → print \"Strong Password\"\n",
    "\n",
    "If 3–4 rules are satisfied → print \"Moderate Password\"\n",
    "\n",
    "If fewer than 3 rules are satisfied → print \"Weak Password\""
   ]
  },
  {
   "cell_type": "markdown",
   "id": "61367f23",
   "metadata": {},
   "source": []
  },
  {
   "cell_type": "code",
   "execution_count": null,
   "id": "d630289c",
   "metadata": {},
   "outputs": [
    {
     "name": "stdout",
     "output_type": "stream",
     "text": [
      "1\n",
      "Weak Password\n"
     ]
    }
   ],
   "source": [
    "# ROugh One: \n",
    "p = input(\"Enter the password: \")\n",
    "lc = len(p)\n",
    "uc = sum(1 for char in p if char.isupper())\n",
    "loc = sum(1 for char in p if char.islower())\n",
    "id = sum(1 for char in p if char.isdigit())\n",
    "sc = (lc) - (uc+loc+id)\n",
    "\n",
    "rtc = 0\n",
    "ruc = 0\n",
    "rlc = 0\n",
    "rid = 0\n",
    "rsc = 0\n",
    "\n",
    "if lc >= 8:\n",
    "    rtc = 1\n",
    "elif loc >= 1:\n",
    "    ruc = 1\n",
    "elif lc >= 1:\n",
    "    rlc = 1\n",
    "elif id >= 1:\n",
    "    rid = 1\n",
    "elif sc >= 1:\n",
    "    rsc = 1\n",
    "\n",
    "%# didnt work becaus ein case of if, it stops after the first macth\n",
    "Tr = rtc + ruc + rlc + rid + rsc\n",
    "print(f'{Tr}')\n",
    "\n",
    "if Tr == 5:\n",
    "    print(\"Strong Password\")\n",
    "elif Tr == 3 or Tr == 4:\n",
    "    print(\"Moderate Password\")\n",
    "elif Tr < 3:\n",
    "    print(\"Weak Password\")"
   ]
  },
  {
   "cell_type": "code",
   "execution_count": 117,
   "id": "8c98e442",
   "metadata": {},
   "outputs": [
    {
     "name": "stdout",
     "output_type": "stream",
     "text": [
      "Strong Password\n"
     ]
    }
   ],
   "source": [
    "# Cleaner and correct: \n",
    "\n",
    "p = input(\"Enter the password: \")\n",
    "\n",
    "# Rule checks\n",
    "length_ok = len(p) >= 8\n",
    "has_upper = any(char.isupper() for char in p)\n",
    "has_lower = any(char.islower() for char in p)\n",
    "has_digit = any(char.isdigit() for char in p)\n",
    "has_special = any(not char.isalnum() for char in p)\n",
    "\n",
    "# Count how many rules passed\n",
    "rules_passed = sum([length_ok, has_upper, has_lower, has_digit, has_special])\n",
    "\n",
    "# Strength logic\n",
    "if rules_passed == 5:\n",
    "    print(\"Strong Password\")\n",
    "elif 3 <= rules_passed <= 4:\n",
    "    print(\"Moderate Password\")\n",
    "else:\n",
    "    print(\"Weak Password\")\n"
   ]
  },
  {
   "cell_type": "markdown",
   "id": "2379283b",
   "metadata": {},
   "source": [
    "### 13- given a list list1=[1,2,3,4,5,6,7,8]\n",
    "diplay a new list which contains only odd position index values from above list."
   ]
  },
  {
   "cell_type": "code",
   "execution_count": 118,
   "id": "2220fb7a",
   "metadata": {},
   "outputs": [
    {
     "data": {
      "text/plain": [
       "[1, 3, 5, 7]"
      ]
     },
     "execution_count": 118,
     "metadata": {},
     "output_type": "execute_result"
    }
   ],
   "source": [
    "list1=[1,2,3,4,5,6,7,8]\n",
    "\n",
    "list2 = []\n",
    "\n",
    "for i in range (0,len(list1)):\n",
    "    if i % 2 == 0:\n",
    "        list2.append(list1[i])\n",
    "list2"
   ]
  },
  {
   "cell_type": "markdown",
   "id": "2cbcef73",
   "metadata": {},
   "source": [
    "### 14- ipl= ['CSK','MI','KKR','LSG','PBKS']\n",
    "\n",
    "take a ipl team name as input from user and display a list of all elements from that name onwards"
   ]
  },
  {
   "cell_type": "code",
   "execution_count": 123,
   "id": "806280a9",
   "metadata": {},
   "outputs": [
    {
     "name": "stdout",
     "output_type": "stream",
     "text": [
      "['PBKS']\n"
     ]
    }
   ],
   "source": [
    "n = input(\"Enter your Name: \").upper()\n",
    "ipl= ['CSK','MI','KKR','LSG','PBKS']\n",
    "\n",
    "for i in range(0,len(ipl)):\n",
    "    if ipl[i] == n:\n",
    "        print(ipl[i:])"
   ]
  },
  {
   "cell_type": "markdown",
   "id": "57ec025a",
   "metadata": {},
   "source": [
    "### 15- ipl= ['CSK','MI','KKR','LSG','PBKS']\n",
    "\n",
    "take a ipl team name as input from user and display a list of all elements except input one\n",
    "\n",
    "example : input : KKR\n",
    "output : ['CSK','MI','LSG','PBKS']"
   ]
  },
  {
   "cell_type": "code",
   "execution_count": 130,
   "id": "baa8bb17",
   "metadata": {},
   "outputs": [
    {
     "name": "stdout",
     "output_type": "stream",
     "text": [
      "['CSK', 'MI', 'KKR', 'LSG']\n"
     ]
    }
   ],
   "source": [
    "n = input(\"Enter your Name: \").upper()\n",
    "ipl= ['CSK','MI','KKR','LSG','PBKS']\n",
    "l = []\n",
    "for i in range(0, len(ipl)):\n",
    "    if ipl[i] != n:\n",
    "        l.append(ipl[i])\n",
    "print(l)\n",
    "\n",
    "        "
   ]
  },
  {
   "cell_type": "markdown",
   "id": "395179cb",
   "metadata": {},
   "source": [
    "### 16- ipl= ['CSK','MI','KKR','LSG','PBKS']\n",
    "take a user input contains 2 comma seprated values index,new_team . replace the index element of list with new value and display the same\n",
    "\n",
    "example : input : 2,SRH\n",
    "output : ['CSK','MI','SRH','LSG','PBKS']"
   ]
  },
  {
   "cell_type": "code",
   "execution_count": 136,
   "id": "d1159fd6",
   "metadata": {},
   "outputs": [
    {
     "data": {
      "text/plain": [
       "['RCB', 'MI', 'KKR', 'LSG', 'PBKS']"
      ]
     },
     "execution_count": 136,
     "metadata": {},
     "output_type": "execute_result"
    }
   ],
   "source": [
    "inp= input(\"Give your inputs- Index and Replacement Value separated by Comma: \")\n",
    "ipl= ['CSK','MI','KKR','LSG','PBKS']\n",
    "index = int(inp.split(',')[0])\n",
    "replacement = inp.split(',')[1]\n",
    "ipl[index] =   replacement\n",
    "ipl\n"
   ]
  },
  {
   "cell_type": "markdown",
   "id": "d4091505",
   "metadata": {},
   "source": [
    "### 17- ipl= ['CSK','MI','KKR','LSG','PBKS']\n",
    "take ipl team name as user input. display True if the team exists else display False."
   ]
  },
  {
   "cell_type": "code",
   "execution_count": 141,
   "id": "6d8334f2",
   "metadata": {},
   "outputs": [
    {
     "data": {
      "text/plain": [
       "True"
      ]
     },
     "execution_count": 141,
     "metadata": {},
     "output_type": "execute_result"
    }
   ],
   "source": [
    "\n",
    "inp = input(\"Enter the name to be checked :\")\n",
    "ipl= ['CSK','MI','KKR','LSG','PBKS']\n",
    "is_present = any(inp in char for char in ipl)\n",
    "\n",
    "is_present"
   ]
  },
  {
   "cell_type": "markdown",
   "id": "e16b4c17",
   "metadata": {},
   "source": [
    "### 18-ipl= ['CSK','MI','KKR','LSG','PBKS']\n",
    "take a user input contains 2 comma seprated values index,new_team . Add the new value at that index in the list. \n",
    "Display the old list , new list,length of original and new list\n",
    "\n",
    "example : input : 2,SRH\n",
    "output : \n",
    "old list : ['CSK','MI','KKR','LSG','PBKS'] and length 5\n",
    "new list : ['CSK','MI','SRH','KKR',LSG','PBKS'] and length 6"
   ]
  },
  {
   "cell_type": "code",
   "execution_count": 144,
   "id": "bc43dfe8",
   "metadata": {},
   "outputs": [
    {
     "name": "stdout",
     "output_type": "stream",
     "text": [
      "old list: ['CSK', 'MI', 'KKR', 'LSG', 'PBKS']\n",
      "new list: ['CSK', 'RCB', 'MI', 'KKR', 'LSG', 'PBKS']\n",
      "The lenght of old_list = 5.\n",
      "The lenght of new_list = 6.\n"
     ]
    }
   ],
   "source": [
    "inp = input(\"Enter index and new_team separated by comnma :\")\n",
    "index = int(inp.split(',')[0])\n",
    "new_team = inp.split(',')[1]\n",
    "ipl= ['CSK','MI','KKR','LSG','PBKS']\n",
    "ipl_new = ipl.copy()\n",
    "ipl_new.insert(index,new_team)\n",
    "print(f'old list: {ipl}')\n",
    "print(f'new list: {ipl_new}')\n",
    "print(f'The lenght of old_list = {len(ipl)}.')\n",
    "print(f'The lenght of new_list = {len(ipl_new)}.')"
   ]
  },
  {
   "cell_type": "markdown",
   "id": "e92e23db",
   "metadata": {},
   "source": [
    "\n",
    "### 19- given 2 list as list1= [1,3,4] and list2 = [2,4,6]\n",
    "\n",
    "combined the 2 list and diplay the same without using extend method"
   ]
  },
  {
   "cell_type": "code",
   "execution_count": 146,
   "id": "45b9ec07",
   "metadata": {},
   "outputs": [
    {
     "data": {
      "text/plain": [
       "[(1, 2), (3, 4), (4, 6)]"
      ]
     },
     "execution_count": 146,
     "metadata": {},
     "output_type": "execute_result"
    }
   ],
   "source": [
    " list1= [1,3,4] \n",
    "list2 = [2,4,6]\n",
    "\n",
    "list3 = zip(list1,list2)\n",
    "list(list3)"
   ]
  },
  {
   "cell_type": "markdown",
   "id": "50ee6dad",
   "metadata": {},
   "source": [
    "### 20- Word Length Filter : Ask the user to enter a sentence and a number n as 2 inputs\n",
    "\n",
    "Your program should Split the sentence into words\n",
    "Print all words with length greater than or equal to n\n",
    "\n",
    "eg: \n",
    "Enter a sentence: Python is super fun and powerful\n",
    "Enter minimum word length: 5\n",
    "\n",
    "Output:\n",
    "Python\n",
    "super\n",
    "powerful"
   ]
  },
  {
   "cell_type": "code",
   "execution_count": 154,
   "id": "0f794458",
   "metadata": {},
   "outputs": [
    {
     "name": "stdout",
     "output_type": "stream",
     "text": [
      "boy\n"
     ]
    }
   ],
   "source": [
    "inp = input(\"Enter the sentence and the min number separated by comma\")\n",
    "sentence = inp.split(',')[0]\n",
    "n = int(inp.split(',')[1])\n",
    "sentence_words = sentence.split(' ')\n",
    "for i in range(0,len(sentence_words)):\n",
    "    if len(sentence_words[i]) >= n:\n",
    "        print(sentence_words[i])\n",
    "        continue"
   ]
  },
  {
   "cell_type": "markdown",
   "id": "03fef828",
   "metadata": {},
   "source": [
    "### 21- print right angle triangle in below format \tif the height = 5\n",
    "\n",
    "*\n",
    "**\n",
    "***\n",
    "****\n",
    "*****"
   ]
  },
  {
   "cell_type": "code",
   "execution_count": 157,
   "id": "b5f53e6d",
   "metadata": {},
   "outputs": [
    {
     "name": "stdout",
     "output_type": "stream",
     "text": [
      "\n",
      "*\n",
      "**\n",
      "***\n",
      "****\n",
      "*****\n"
     ]
    }
   ],
   "source": [
    "h = int(input(\"Enter the height: \"))\n",
    "h_n = h + 1\n",
    "for i in range(0,h_n):\n",
    "    print(f'{i * '*'}')\n",
    "    continue"
   ]
  },
  {
   "cell_type": "code",
   "execution_count": null,
   "id": "f245ddc0",
   "metadata": {},
   "outputs": [],
   "source": [
    "### 22 - print the right angle triangle as below if the height = 5\n",
    "\n",
    "    *\n",
    "   **\n",
    "  ***\n",
    " ****   \n",
    "*****"
   ]
  },
  {
   "cell_type": "code",
   "execution_count": 163,
   "id": "2b7227f7",
   "metadata": {},
   "outputs": [
    {
     "name": "stdout",
     "output_type": "stream",
     "text": [
      "    *\n",
      "   **\n",
      "  ***\n",
      " ****\n",
      "*****\n"
     ]
    }
   ],
   "source": [
    "n = int(input(\"Enter the height: \"))\n",
    "for i in range (1,n+1):\n",
    "    space = ' ' * (n-i)\n",
    "    star = '*' * i\n",
    "    print(space + star)\n"
   ]
  },
  {
   "cell_type": "markdown",
   "id": "8f3e2e3c",
   "metadata": {},
   "source": [
    "### 23 - you are given a sorted list . Ask user for an input integer value.\n",
    "\n",
    "insert that element in the list so that list still remian sorted . dont use sort method.\n",
    "\n",
    "a) solve it using insert method \n",
    "b) solve without insert and sort method \n",
    "\n",
    "my_list = [10,30,40,65,90]\n",
    "eg : input = 35\n",
    "\n",
    "output: [10,30,35,40,65,90]"
   ]
  },
  {
   "cell_type": "code",
   "execution_count": 178,
   "id": "33b8e34c",
   "metadata": {},
   "outputs": [
    {
     "ename": "IndexError",
     "evalue": "list index out of range",
     "output_type": "error",
     "traceback": [
      "\u001b[1;31m---------------------------------------------------------------------------\u001b[0m",
      "\u001b[1;31mIndexError\u001b[0m                                Traceback (most recent call last)",
      "Cell \u001b[1;32mIn[178], line 4\u001b[0m\n\u001b[0;32m      2\u001b[0m my_list \u001b[38;5;241m=\u001b[39m [\u001b[38;5;241m10\u001b[39m,\u001b[38;5;241m30\u001b[39m,\u001b[38;5;241m40\u001b[39m,\u001b[38;5;241m65\u001b[39m,\u001b[38;5;241m90\u001b[39m]\n\u001b[0;32m      3\u001b[0m \u001b[38;5;28;01mfor\u001b[39;00m i \u001b[38;5;129;01min\u001b[39;00m \u001b[38;5;28mrange\u001b[39m(\u001b[38;5;241m1\u001b[39m,\u001b[38;5;28mlen\u001b[39m(my_list)\u001b[38;5;241m+\u001b[39m\u001b[38;5;241m3\u001b[39m):\n\u001b[1;32m----> 4\u001b[0m     \u001b[38;5;28;01mif\u001b[39;00m my_list[i] \u001b[38;5;241m>\u001b[39m n:\n\u001b[0;32m      5\u001b[0m         my_list\u001b[38;5;241m.\u001b[39minsert(i,n)\n\u001b[0;32m      6\u001b[0m         \u001b[38;5;28;01mbreak\u001b[39;00m\n",
      "\u001b[1;31mIndexError\u001b[0m: list index out of range"
     ]
    }
   ],
   "source": [
    "n = int(input(\"Enter the Value: \"))\n",
    "my_list = [10,30,40,65,90]\n",
    "for i in range(1,len(my_list)+3):\n",
    "    if my_list[i] > n:\n",
    "        my_list.insert(i,n)\n",
    "        break\n",
    "my_list"
   ]
  },
  {
   "cell_type": "markdown",
   "id": "b134daba",
   "metadata": {},
   "source": [
    " "
   ]
  }
 ],
 "metadata": {
  "kernelspec": {
   "display_name": "base",
   "language": "python",
   "name": "python3"
  },
  "language_info": {
   "codemirror_mode": {
    "name": "ipython",
    "version": 3
   },
   "file_extension": ".py",
   "mimetype": "text/x-python",
   "name": "python",
   "nbconvert_exporter": "python",
   "pygments_lexer": "ipython3",
   "version": "3.12.7"
  }
 },
 "nbformat": 4,
 "nbformat_minor": 5
}
