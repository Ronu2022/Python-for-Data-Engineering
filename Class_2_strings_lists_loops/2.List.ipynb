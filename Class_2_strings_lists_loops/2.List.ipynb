{
 "cells": [
  {
   "cell_type": "code",
   "execution_count": 54,
   "id": "db980bb2",
   "metadata": {},
   "outputs": [
    {
     "ename": "KeyboardInterrupt",
     "evalue": "",
     "output_type": "error",
     "traceback": [
      "\u001b[1;31m---------------------------------------------------------------------------\u001b[0m",
      "\u001b[1;31mKeyboardInterrupt\u001b[0m                         Traceback (most recent call last)",
      "Cell \u001b[1;32mIn[54], line 1\u001b[0m\n\u001b[1;32m----> 1\u001b[0m ipl_team1 \u001b[38;5;241m=\u001b[39m \u001b[38;5;124m'\u001b[39m\u001b[38;5;124mCsk\u001b[39m\u001b[38;5;124m'\u001b[39m\n\u001b[0;32m      2\u001b[0m ipl_team2 \u001b[38;5;241m=\u001b[39m \u001b[38;5;124m\"\u001b[39m\u001b[38;5;124mMI\u001b[39m\u001b[38;5;124m\"\u001b[39m\n\u001b[0;32m      3\u001b[0m ipl \u001b[38;5;241m=\u001b[39m [\u001b[38;5;124m\"\u001b[39m\u001b[38;5;124mCSK\u001b[39m\u001b[38;5;124m\"\u001b[39m, \u001b[38;5;124m\"\u001b[39m\u001b[38;5;124mMI\u001b[39m\u001b[38;5;124m\"\u001b[39m, \u001b[38;5;124m\"\u001b[39m\u001b[38;5;124mRCB\u001b[39m\u001b[38;5;124m\"\u001b[39m, \u001b[38;5;124m\"\u001b[39m\u001b[38;5;124mKKR\u001b[39m\u001b[38;5;124m\"\u001b[39m, \u001b[38;5;124m\"\u001b[39m\u001b[38;5;124mSRH\u001b[39m\u001b[38;5;124m\"\u001b[39m, \u001b[38;5;124m\"\u001b[39m\u001b[38;5;124mDC\u001b[39m\u001b[38;5;124m\"\u001b[39m, \u001b[38;5;124m\"\u001b[39m\u001b[38;5;124mRR\u001b[39m\u001b[38;5;124m\"\u001b[39m, \u001b[38;5;124m\"\u001b[39m\u001b[38;5;124mPBKS\u001b[39m\u001b[38;5;124m\"\u001b[39m]\n",
      "File \u001b[1;32mc:\\ProgramData\\anaconda3\\Lib\\site-packages\\debugpy\\_vendored\\pydevd\\_pydevd_bundle\\pydevd_frame.py:988\u001b[0m, in \u001b[0;36mPyDBFrame.trace_dispatch\u001b[1;34m(self, frame, event, arg)\u001b[0m\n\u001b[0;32m    986\u001b[0m \u001b[38;5;66;03m# if thread has a suspend flag, we suspend with a busy wait\u001b[39;00m\n\u001b[0;32m    987\u001b[0m \u001b[38;5;28;01mif\u001b[39;00m info\u001b[38;5;241m.\u001b[39mpydev_state \u001b[38;5;241m==\u001b[39m STATE_SUSPEND:\n\u001b[1;32m--> 988\u001b[0m     \u001b[38;5;28mself\u001b[39m\u001b[38;5;241m.\u001b[39mdo_wait_suspend(thread, frame, event, arg)\n\u001b[0;32m    989\u001b[0m     \u001b[38;5;28;01mreturn\u001b[39;00m \u001b[38;5;28mself\u001b[39m\u001b[38;5;241m.\u001b[39mtrace_dispatch\n\u001b[0;32m    990\u001b[0m \u001b[38;5;28;01melse\u001b[39;00m:\n",
      "File \u001b[1;32mc:\\ProgramData\\anaconda3\\Lib\\site-packages\\debugpy\\_vendored\\pydevd\\_pydevd_bundle\\pydevd_frame.py:165\u001b[0m, in \u001b[0;36mPyDBFrame.do_wait_suspend\u001b[1;34m(self, *args, **kwargs)\u001b[0m\n\u001b[0;32m    164\u001b[0m \u001b[38;5;28;01mdef\u001b[39;00m \u001b[38;5;21mdo_wait_suspend\u001b[39m(\u001b[38;5;28mself\u001b[39m, \u001b[38;5;241m*\u001b[39margs, \u001b[38;5;241m*\u001b[39m\u001b[38;5;241m*\u001b[39mkwargs):\n\u001b[1;32m--> 165\u001b[0m     \u001b[38;5;28mself\u001b[39m\u001b[38;5;241m.\u001b[39m_args[\u001b[38;5;241m0\u001b[39m]\u001b[38;5;241m.\u001b[39mdo_wait_suspend(\u001b[38;5;241m*\u001b[39margs, \u001b[38;5;241m*\u001b[39m\u001b[38;5;241m*\u001b[39mkwargs)\n",
      "File \u001b[1;32mc:\\ProgramData\\anaconda3\\Lib\\site-packages\\debugpy\\_vendored\\pydevd\\pydevd.py:2070\u001b[0m, in \u001b[0;36mPyDB.do_wait_suspend\u001b[1;34m(self, thread, frame, event, arg, exception_type)\u001b[0m\n\u001b[0;32m   2067\u001b[0m             from_this_thread\u001b[38;5;241m.\u001b[39mappend(frame_custom_thread_id)\n\u001b[0;32m   2069\u001b[0m     \u001b[38;5;28;01mwith\u001b[39;00m \u001b[38;5;28mself\u001b[39m\u001b[38;5;241m.\u001b[39m_threads_suspended_single_notification\u001b[38;5;241m.\u001b[39mnotify_thread_suspended(thread_id, thread, stop_reason):\n\u001b[1;32m-> 2070\u001b[0m         keep_suspended \u001b[38;5;241m=\u001b[39m \u001b[38;5;28mself\u001b[39m\u001b[38;5;241m.\u001b[39m_do_wait_suspend(thread, frame, event, arg, suspend_type, from_this_thread, frames_tracker)\n\u001b[0;32m   2072\u001b[0m frames_list \u001b[38;5;241m=\u001b[39m \u001b[38;5;28;01mNone\u001b[39;00m\n\u001b[0;32m   2074\u001b[0m \u001b[38;5;28;01mif\u001b[39;00m keep_suspended:\n\u001b[0;32m   2075\u001b[0m     \u001b[38;5;66;03m# This means that we should pause again after a set next statement.\u001b[39;00m\n",
      "File \u001b[1;32mc:\\ProgramData\\anaconda3\\Lib\\site-packages\\debugpy\\_vendored\\pydevd\\pydevd.py:2106\u001b[0m, in \u001b[0;36mPyDB._do_wait_suspend\u001b[1;34m(self, thread, frame, event, arg, suspend_type, from_this_thread, frames_tracker)\u001b[0m\n\u001b[0;32m   2103\u001b[0m         \u001b[38;5;28mself\u001b[39m\u001b[38;5;241m.\u001b[39m_call_input_hook()\n\u001b[0;32m   2105\u001b[0m     \u001b[38;5;28mself\u001b[39m\u001b[38;5;241m.\u001b[39mprocess_internal_commands()\n\u001b[1;32m-> 2106\u001b[0m     time\u001b[38;5;241m.\u001b[39msleep(\u001b[38;5;241m0.01\u001b[39m)\n\u001b[0;32m   2108\u001b[0m \u001b[38;5;28mself\u001b[39m\u001b[38;5;241m.\u001b[39mcancel_async_evaluation(get_current_thread_id(thread), \u001b[38;5;28mstr\u001b[39m(\u001b[38;5;28mid\u001b[39m(frame)))\n\u001b[0;32m   2110\u001b[0m \u001b[38;5;66;03m# process any stepping instructions\u001b[39;00m\n",
      "\u001b[1;31mKeyboardInterrupt\u001b[0m: "
     ]
    }
   ],
   "source": [
    "ipl_team1 = 'Csk'\n",
    "ipl_team2 = \"MI\"\n",
    "ipl = [\"CSK\", \"MI\", \"RCB\", \"KKR\", \"SRH\", \"DC\", \"RR\", \"PBKS\"]\n",
    "ipl[0]"
   ]
  },
  {
   "cell_type": "code",
   "execution_count": 5,
   "id": "05ee1eea",
   "metadata": {},
   "outputs": [
    {
     "data": {
      "text/plain": [
       "'MI'"
      ]
     },
     "execution_count": 5,
     "metadata": {},
     "output_type": "execute_result"
    }
   ],
   "source": [
    "ipl = [\"CSK\", \"MI\", \"RCB\", \"KKR\", \"SRH\", \"DC\", \"RR\", \"PBKS\"]\n",
    "ipl[1]"
   ]
  },
  {
   "cell_type": "code",
   "execution_count": 6,
   "id": "0f3963a5",
   "metadata": {},
   "outputs": [
    {
     "data": {
      "text/plain": [
       "['CSK', 'MI', 'RCB', 'KKR', 'SRH', 'DC', 'RR', 'PBKS']"
      ]
     },
     "execution_count": 6,
     "metadata": {},
     "output_type": "execute_result"
    }
   ],
   "source": [
    "ipl = [\"CSK\", \"MI\", \"RCB\", \"KKR\", \"SRH\", \"DC\", \"RR\", \"PBKS\"]\n",
    "ipl[0:]"
   ]
  },
  {
   "cell_type": "code",
   "execution_count": 7,
   "id": "bdf3267e",
   "metadata": {},
   "outputs": [
    {
     "data": {
      "text/plain": [
       "str"
      ]
     },
     "execution_count": 7,
     "metadata": {},
     "output_type": "execute_result"
    }
   ],
   "source": [
    "ipl = [\"CSK\", \"MI\", \"RCB\", \"KKR\", \"SRH\", \"DC\", \"RR\", \"PBKS\"]\n",
    "type(ipl[0])"
   ]
  },
  {
   "cell_type": "code",
   "execution_count": null,
   "id": "686537d7",
   "metadata": {},
   "outputs": [
    {
     "data": {
      "text/plain": [
       "['CSK', 'MI', 'RCB', 'KKR', 'SRH', 'DC', 'RR', 'PBKS', 'GI']"
      ]
     },
     "execution_count": 9,
     "metadata": {},
     "output_type": "execute_result"
    }
   ],
   "source": [
    "# append\n",
    "ipl = [\"CSK\", \"MI\", \"RCB\", \"KKR\", \"SRH\", \"DC\", \"RR\", \"PBKS\"]\n",
    "type(ipl[0])\n",
    "ipl.append(\"GI\")\n",
    "ipl"
   ]
  },
  {
   "cell_type": "code",
   "execution_count": 10,
   "id": "f2a4c8dd",
   "metadata": {},
   "outputs": [
    {
     "data": {
      "text/plain": [
       "['KKR2', 'CSK', 'MI', 'RCB', 'KKR', 'SRH', 'DC', 'RR', 'PBKS']"
      ]
     },
     "execution_count": 10,
     "metadata": {},
     "output_type": "execute_result"
    }
   ],
   "source": [
    "# Insert\n",
    "ipl = [\"CSK\", \"MI\", \"RCB\", \"KKR\", \"SRH\", \"DC\", \"RR\", \"PBKS\"]\n",
    "type(ipl[0])\n",
    "ipl.insert(0,\"KKR2\")\n",
    "ipl"
   ]
  },
  {
   "cell_type": "code",
   "execution_count": null,
   "id": "ea035bdd",
   "metadata": {},
   "outputs": [
    {
     "data": {
      "text/plain": [
       "['CSK', 'MI', 'RCB', 'KKR', 'SRH', 'DC', 'RR']"
      ]
     },
     "execution_count": 11,
     "metadata": {},
     "output_type": "execute_result"
    }
   ],
   "source": [
    "# pop\n",
    "ipl = [\"CSK\", \"MI\", \"RCB\", \"KKR\", \"SRH\", \"DC\", \"RR\", \"PBKS\"]\n",
    "type(ipl[0])\n",
    "ipl.pop()\n",
    "ipl # pops the last element"
   ]
  },
  {
   "cell_type": "code",
   "execution_count": null,
   "id": "4fc5badc",
   "metadata": {},
   "outputs": [
    {
     "data": {
      "text/plain": [
       "['MI', 'RCB', 'KKR', 'SRH', 'DC', 'RR', 'PBKS']"
      ]
     },
     "execution_count": 12,
     "metadata": {},
     "output_type": "execute_result"
    }
   ],
   "source": [
    "# pop(value)\n",
    "ipl = [\"CSK\", \"MI\", \"RCB\", \"KKR\", \"SRH\", \"DC\", \"RR\", \"PBKS\"]\n",
    "type(ipl[0])\n",
    "ipl.pop(0)\n",
    "ipl # pops the first element"
   ]
  },
  {
   "cell_type": "markdown",
   "id": "9dbb072e",
   "metadata": {},
   "source": [
    "## Append\n"
   ]
  },
  {
   "cell_type": "code",
   "execution_count": 13,
   "id": "86e697c3",
   "metadata": {},
   "outputs": [
    {
     "data": {
      "text/plain": [
       "['CSK', 'MI', 'RCB', 'KKR', 'SRH', 'DC', 'RR', 'PBKS', 'Odisha_tigers']"
      ]
     },
     "execution_count": 13,
     "metadata": {},
     "output_type": "execute_result"
    }
   ],
   "source": [
    "ipl = [\"CSK\", \"MI\", \"RCB\", \"KKR\", \"SRH\", \"DC\", \"RR\", \"PBKS\"]\n",
    "type(ipl[0])\n",
    "ipl.append(\"Odisha_tigers\")\n",
    "ipl "
   ]
  },
  {
   "cell_type": "markdown",
   "id": "c6e81865",
   "metadata": {},
   "source": [
    "## extend"
   ]
  },
  {
   "cell_type": "code",
   "execution_count": 14,
   "id": "53c291e8",
   "metadata": {},
   "outputs": [
    {
     "data": {
      "text/plain": [
       "['CSK', 'MI', 'RCB', 'KKR', 'SRH', 'DC', 'RR', 'PBKS', 'Deccan', 'Chennai']"
      ]
     },
     "execution_count": 14,
     "metadata": {},
     "output_type": "execute_result"
    }
   ],
   "source": [
    "ipl = [\"CSK\", \"MI\", \"RCB\", \"KKR\", \"SRH\", \"DC\", \"RR\", \"PBKS\"]\n",
    "type(ipl[0])\n",
    "ipl.extend(['Deccan','Chennai'])\n",
    "ipl"
   ]
  },
  {
   "cell_type": "markdown",
   "id": "8b0466f8",
   "metadata": {},
   "source": [
    "### extending with addition"
   ]
  },
  {
   "cell_type": "code",
   "execution_count": 17,
   "id": "f5365095",
   "metadata": {},
   "outputs": [
    {
     "data": {
      "text/plain": [
       "['CSK', 'MI', 'RCB', 'KKR', 'SRH', 'DC', 'RR', 'PBKS', 'Deccan', 'Chennai']"
      ]
     },
     "execution_count": 17,
     "metadata": {},
     "output_type": "execute_result"
    }
   ],
   "source": [
    "ipl = [\"CSK\", \"MI\", \"RCB\", \"KKR\", \"SRH\", \"DC\", \"RR\", \"PBKS\"]\n",
    "ipl_2 = [\"Deccan\", \"Chennai\"]\n",
    "new_ipl = ipl + ipl_2\n",
    "new_ipl"
   ]
  },
  {
   "cell_type": "markdown",
   "id": "385bd8d7",
   "metadata": {},
   "source": [
    "## Nested List:"
   ]
  },
  {
   "cell_type": "code",
   "execution_count": 19,
   "id": "7ba913a7",
   "metadata": {},
   "outputs": [
    {
     "data": {
      "text/plain": [
       "['CSK', 'MI', 'RCB', 'KKR', 'SRH', 'DC', 'RR', 'PBKS', ['punjab', 'Delhi']]"
      ]
     },
     "execution_count": 19,
     "metadata": {},
     "output_type": "execute_result"
    }
   ],
   "source": [
    "ipl = [\"CSK\", \"MI\", \"RCB\", \"KKR\", \"SRH\", \"DC\", \"RR\", \"PBKS\"]\n",
    "ipl.append([\"punjab\",\"Delhi\"])\n",
    "ipl"
   ]
  },
  {
   "cell_type": "markdown",
   "id": "a40b7e5b",
   "metadata": {},
   "source": [
    "- there was alist that was appended.\n",
    "- so the type of that would be list.\n",
    "- we can slice and dice in the list"
   ]
  },
  {
   "cell_type": "code",
   "execution_count": 26,
   "id": "7512d882",
   "metadata": {},
   "outputs": [
    {
     "data": {
      "text/plain": [
       "['CSK', 'MI', 'RCB', 'KKR', 'SRH', 'DC', 'RR', 'PBKS', ['punjab', 'Delhi']]"
      ]
     },
     "execution_count": 26,
     "metadata": {},
     "output_type": "execute_result"
    }
   ],
   "source": [
    "ipl = [\"CSK\", \"MI\", \"RCB\", \"KKR\", \"SRH\", \"DC\", \"RR\", \"PBKS\"]\n",
    "ipl.append([\"punjab\",\"Delhi\"])\n",
    "ipl\n"
   ]
  },
  {
   "cell_type": "code",
   "execution_count": 29,
   "id": "29123639",
   "metadata": {},
   "outputs": [
    {
     "data": {
      "text/plain": [
       "['punjab', 'Delhi']"
      ]
     },
     "execution_count": 29,
     "metadata": {},
     "output_type": "execute_result"
    }
   ],
   "source": [
    "ipl[8]"
   ]
  },
  {
   "cell_type": "code",
   "execution_count": 30,
   "id": "472ea751",
   "metadata": {},
   "outputs": [
    {
     "data": {
      "text/plain": [
       "'punjab'"
      ]
     },
     "execution_count": 30,
     "metadata": {},
     "output_type": "execute_result"
    }
   ],
   "source": [
    "ipl[8][0]  # Accessing the first element of the appended list"
   ]
  },
  {
   "cell_type": "code",
   "execution_count": 31,
   "id": "11b415bc",
   "metadata": {},
   "outputs": [
    {
     "data": {
      "text/plain": [
       "'Delhi'"
      ]
     },
     "execution_count": 31,
     "metadata": {},
     "output_type": "execute_result"
    }
   ],
   "source": [
    "ipl[8][1]  # Accessing the second element of the appended list"
   ]
  },
  {
   "cell_type": "markdown",
   "id": "0bae4fcd",
   "metadata": {},
   "source": [
    "## Sort"
   ]
  },
  {
   "cell_type": "code",
   "execution_count": 32,
   "id": "d0768454",
   "metadata": {},
   "outputs": [
    {
     "data": {
      "text/plain": [
       "['CSK', 'MI', 'RCB', 'KKR', 'SRH', 'DC', 'RR', 'PBKS', ['punjab', 'Delhi']]"
      ]
     },
     "execution_count": 32,
     "metadata": {},
     "output_type": "execute_result"
    }
   ],
   "source": [
    "ipl"
   ]
  },
  {
   "cell_type": "code",
   "execution_count": 33,
   "id": "af64dcfe",
   "metadata": {},
   "outputs": [
    {
     "ename": "TypeError",
     "evalue": "'<' not supported between instances of 'list' and 'str'",
     "output_type": "error",
     "traceback": [
      "\u001b[1;31m---------------------------------------------------------------------------\u001b[0m",
      "\u001b[1;31mTypeError\u001b[0m                                 Traceback (most recent call last)",
      "Cell \u001b[1;32mIn[33], line 1\u001b[0m\n\u001b[1;32m----> 1\u001b[0m ipl\u001b[38;5;241m.\u001b[39msort()\n",
      "\u001b[1;31mTypeError\u001b[0m: '<' not supported between instances of 'list' and 'str'"
     ]
    }
   ],
   "source": [
    "ipl.sort()"
   ]
  },
  {
   "cell_type": "markdown",
   "id": "9e5b14a4",
   "metadata": {},
   "source": [
    "- error becasue there is a list inside a listm"
   ]
  },
  {
   "cell_type": "code",
   "execution_count": 36,
   "id": "7f5e9d0f",
   "metadata": {},
   "outputs": [
    {
     "data": {
      "text/plain": [
       "['CSK', 'MI', 'RCB', 'KKR', 'SRH', 'DC', 'RR', 'PBKS', 'punjab', 'Delhi']"
      ]
     },
     "execution_count": 36,
     "metadata": {},
     "output_type": "execute_result"
    }
   ],
   "source": [
    "ipl = ['CSK', 'MI', 'RCB', 'KKR', 'SRH', 'DC', 'RR', 'PBKS']\n",
    "ipl.extend(['punjab', 'Delhi']) #extend  doesnt creates a list\n",
    "ipl"
   ]
  },
  {
   "cell_type": "code",
   "execution_count": 37,
   "id": "9886ec56",
   "metadata": {},
   "outputs": [],
   "source": [
    "ipl.sort()"
   ]
  },
  {
   "cell_type": "code",
   "execution_count": 38,
   "id": "52731e6b",
   "metadata": {},
   "outputs": [
    {
     "data": {
      "text/plain": [
       "['CSK', 'DC', 'Delhi', 'KKR', 'MI', 'PBKS', 'RCB', 'RR', 'SRH', 'punjab']"
      ]
     },
     "execution_count": 38,
     "metadata": {},
     "output_type": "execute_result"
    }
   ],
   "source": [
    "ipl"
   ]
  },
  {
   "cell_type": "code",
   "execution_count": 39,
   "id": "2697abc5",
   "metadata": {},
   "outputs": [],
   "source": [
    "ipl.sort(reverse = True)"
   ]
  },
  {
   "cell_type": "code",
   "execution_count": 40,
   "id": "1a21711e",
   "metadata": {},
   "outputs": [
    {
     "data": {
      "text/plain": [
       "['punjab', 'SRH', 'RR', 'RCB', 'PBKS', 'MI', 'KKR', 'Delhi', 'DC', 'CSK']"
      ]
     },
     "execution_count": 40,
     "metadata": {},
     "output_type": "execute_result"
    }
   ],
   "source": [
    "ipl"
   ]
  },
  {
   "cell_type": "markdown",
   "id": "27575c8c",
   "metadata": {},
   "source": [
    "### sorting by lets say length of the string"
   ]
  },
  {
   "cell_type": "code",
   "execution_count": 46,
   "id": "cbc69bb5",
   "metadata": {},
   "outputs": [
    {
     "data": {
      "text/plain": [
       "['MI', 'DC', 'RR', 'CSK', 'RCB', 'KKR', 'SRH', 'PBKS']"
      ]
     },
     "execution_count": 46,
     "metadata": {},
     "output_type": "execute_result"
    }
   ],
   "source": [
    "ipl = ['CSK', 'MI', 'RCB', 'KKR', 'SRH', 'DC', 'RR', 'PBKS']\n",
    "ipl.sort(key = lambda v: len(v))\n",
    "ipl\n"
   ]
  },
  {
   "cell_type": "code",
   "execution_count": 47,
   "id": "bada2774",
   "metadata": {},
   "outputs": [
    {
     "data": {
      "text/plain": [
       "['PBKS', 'CSK', 'RCB', 'KKR', 'SRH', 'MI', 'DC', 'RR']"
      ]
     },
     "execution_count": 47,
     "metadata": {},
     "output_type": "execute_result"
    }
   ],
   "source": [
    "ipl = ['CSK', 'MI', 'RCB', 'KKR', 'SRH', 'DC', 'RR', 'PBKS']\n",
    "ipl.sort(key = lambda x: len(x), reverse = True)\n",
    "ipl"
   ]
  },
  {
   "cell_type": "code",
   "execution_count": 49,
   "id": "a74fe14c",
   "metadata": {},
   "outputs": [
    {
     "data": {
      "text/plain": [
       "['a', 'PBKS', 'RCB', 'DC', 'MI', 'KKR', 'SRH', 'RR', 'CSK']"
      ]
     },
     "execution_count": 49,
     "metadata": {},
     "output_type": "execute_result"
    }
   ],
   "source": [
    "### sorting by second element of the list\n",
    "\n",
    "ipl = ['a','CSK', 'MI', 'RCB', 'KKR', 'SRH', 'DC', 'RR', 'PBKS']\n",
    "ipl.sort(key = lambda x: x[1] if len(x) > 1 else '')\n",
    "ipl"
   ]
  },
  {
   "cell_type": "markdown",
   "id": "d7d78ce0",
   "metadata": {},
   "source": [
    "### sort by the number of vowels"
   ]
  },
  {
   "cell_type": "code",
   "execution_count": 19,
   "id": "d5157a8c",
   "metadata": {},
   "outputs": [
    {
     "data": {
      "text/plain": [
       "['aabbddeerrii',\n",
       " 'eeeg',\n",
       " 'a',\n",
       " 'MI',\n",
       " 'CSK',\n",
       " 'RCB',\n",
       " 'KKR',\n",
       " 'SRH',\n",
       " 'DC',\n",
       " 'RR',\n",
       " 'PBKS']"
      ]
     },
     "execution_count": 19,
     "metadata": {},
     "output_type": "execute_result"
    }
   ],
   "source": [
    "ipl = ['a','CSK', 'MI', 'eeeg','aabbddeerrii','RCB', 'KKR', 'SRH', 'DC', 'RR', 'PBKS']\n",
    "def count_vowels(s):\n",
    "    vowels = 'aeiouAEIOU'\n",
    "    return sum(1 for char in s if char in vowels)\n",
    "\n",
    "ipl.sort(key = lambda x:count_vowels(x),reverse  = True)\n",
    "ipl\n"
   ]
  },
  {
   "cell_type": "markdown",
   "id": "b246f7e2",
   "metadata": {},
   "source": [
    "### sort by two criteria 1, lenght of vowels, the other length of element\n"
   ]
  },
  {
   "cell_type": "code",
   "execution_count": 28,
   "id": "8414562a",
   "metadata": {},
   "outputs": [
    {
     "data": {
      "text/plain": [
       "['aabbddeerrii',\n",
       " 'eeeg',\n",
       " 'abcd',\n",
       " 'abc',\n",
       " 'MI',\n",
       " 'a',\n",
       " 'PBKS',\n",
       " 'CSK',\n",
       " 'RCB',\n",
       " 'KKR',\n",
       " 'SRH',\n",
       " 'DC',\n",
       " 'RR']"
      ]
     },
     "execution_count": 28,
     "metadata": {},
     "output_type": "execute_result"
    }
   ],
   "source": [
    "ipl = ['a','abc','abcd','CSK', 'MI', 'eeeg','aabbddeerrii','RCB', 'KKR', 'SRH', 'DC', 'RR', 'PBKS']\n",
    "\n",
    "def count_vowels(s):\n",
    "    vowels = 'aeiouAEIOU'\n",
    "    return sum(1 for char in s if char in vowels)\n",
    "\n",
    "ipl.sort(key = lambda x: (count_vowels(x),len(x)),reverse = True)\n",
    "ipl\n"
   ]
  },
  {
   "cell_type": "markdown",
   "id": "394f3a02",
   "metadata": {},
   "source": [
    "## insert"
   ]
  },
  {
   "cell_type": "code",
   "execution_count": 42,
   "id": "d909c2d3",
   "metadata": {},
   "outputs": [
    {
     "data": {
      "text/plain": [
       "['punjab', 'Delhi', 'Kolkata']"
      ]
     },
     "execution_count": 42,
     "metadata": {},
     "output_type": "execute_result"
    }
   ],
   "source": [
    "teams = ['punjab', 'Delhi']\n",
    "teams.insert(3,'Kolkata')\n",
    "teams"
   ]
  },
  {
   "cell_type": "markdown",
   "id": "16d28a0c",
   "metadata": {},
   "source": [
    "## Index"
   ]
  },
  {
   "cell_type": "code",
   "execution_count": 43,
   "id": "1dde6c47",
   "metadata": {},
   "outputs": [
    {
     "data": {
      "text/plain": [
       "0"
      ]
     },
     "execution_count": 43,
     "metadata": {},
     "output_type": "execute_result"
    }
   ],
   "source": [
    "teams = ['punjab', 'Delhi']\n",
    "teams.index('punjab')"
   ]
  },
  {
   "cell_type": "code",
   "execution_count": 44,
   "id": "2a47a24d",
   "metadata": {},
   "outputs": [
    {
     "data": {
      "text/plain": [
       "1"
      ]
     },
     "execution_count": 44,
     "metadata": {},
     "output_type": "execute_result"
    }
   ],
   "source": [
    "teams = ['punjab', 'Delhi']\n",
    "teams.index('Delhi')"
   ]
  },
  {
   "cell_type": "markdown",
   "id": "af284f0f",
   "metadata": {},
   "source": [
    "## Clear"
   ]
  },
  {
   "cell_type": "code",
   "execution_count": null,
   "id": "54feae1d",
   "metadata": {},
   "outputs": [
    {
     "data": {
      "text/plain": [
       "[]"
      ]
     },
     "execution_count": 51,
     "metadata": {},
     "output_type": "execute_result"
    }
   ],
   "source": [
    "teams = ['punjab', 'Delhi']\n",
    "teams.clear()\n",
    "teams"
   ]
  },
  {
   "cell_type": "markdown",
   "id": "cae47521",
   "metadata": {},
   "source": [
    "### Check the code if the lenght of the name is uptil the length then keep else add"
   ]
  },
  {
   "cell_type": "code",
   "execution_count": 56,
   "id": "16ec9adb",
   "metadata": {},
   "outputs": [
    {
     "name": "stdout",
     "output_type": "stream",
     "text": [
      "Ronu******\n"
     ]
    }
   ],
   "source": [
    "name = input(\"Enter your name: \")\n",
    "min_l = int(input(\"Enter the minimum length of the name: \"))\n",
    "\n",
    "if len(name) <= 10:\n",
    "    if min_l > len(name):\n",
    "        add_on = \"*\"\n",
    "        name_updated = name + (add_on * (min_l - len(name)))\n",
    "    else:\n",
    "        # If min_l <= len(name), no padding needed\n",
    "        name_updated = name\n",
    "else:\n",
    "    # If name length > 10, keep as is\n",
    "    name_updated = name\n",
    "\n",
    "print(name_updated)\n"
   ]
  },
  {
   "cell_type": "code",
   "execution_count": 57,
   "id": "25bcfffc",
   "metadata": {},
   "outputs": [
    {
     "name": "stdout",
     "output_type": "stream",
     "text": [
      "Ronu******\n"
     ]
    }
   ],
   "source": [
    "name = input(\"Enter your name: \")\n",
    "min_l = int(input(\"Enter the minimum length of the name: \"))\n",
    "\n",
    "if len(name) < min_l:\n",
    "    add_on = \"*\"\n",
    "    name_updated = name + (add_on * (min_l - len(name)))\n",
    "else:\n",
    "    name_updated = name\n",
    "\n",
    "print(name_updated)\n"
   ]
  },
  {
   "cell_type": "markdown",
   "id": "ef578e41",
   "metadata": {},
   "source": [
    "## Adding two functions together"
   ]
  },
  {
   "cell_type": "code",
   "execution_count": null,
   "id": "d81e5fbc",
   "metadata": {},
   "outputs": [
    {
     "name": "stdout",
     "output_type": "stream",
     "text": [
      "[10, 20, 30, 31, 55]\n"
     ]
    }
   ],
   "source": [
    "my_list = [10,20,30,55]\n",
    "num = int(input(\"Enter the number to be inserted: \"))\n",
    "sorted_list = sorted(my_list)\n",
    "for i in range(len(sorted_list)):\n",
    "    if sorted_list[i] > num:\n",
    "        sorted_list.insert(i,num)\n",
    "        break\n",
    "print(sorted_list)"
   ]
  },
  {
   "cell_type": "code",
   "execution_count": 69,
   "id": "59d37f3d",
   "metadata": {},
   "outputs": [],
   "source": [
    "my_list = [10,20,30,55]\n",
    "my_list.insert(3,35)"
   ]
  },
  {
   "cell_type": "code",
   "execution_count": 67,
   "id": "5500b265",
   "metadata": {},
   "outputs": [
    {
     "data": {
      "text/plain": [
       "[10, 20, 30, 35, 55]"
      ]
     },
     "execution_count": 67,
     "metadata": {},
     "output_type": "execute_result"
    }
   ],
   "source": [
    "my_list"
   ]
  },
  {
   "cell_type": "markdown",
   "id": "dbdf1138",
   "metadata": {},
   "source": [
    "## spit()"
   ]
  },
  {
   "cell_type": "code",
   "execution_count": 3,
   "id": "0c08d577",
   "metadata": {},
   "outputs": [
    {
     "name": "stdout",
     "output_type": "stream",
     "text": [
      "375g flour\n"
     ]
    }
   ],
   "source": [
    "recipie = [\"375g flour\"]\n",
    "for i in recipie:\n",
    "    i.split(\" \")\n",
    "print(i)"
   ]
  },
  {
   "cell_type": "code",
   "execution_count": null,
   "id": "cbfee86c",
   "metadata": {},
   "outputs": [
    {
     "data": {
      "text/plain": [
       "['375g', '75g', '250g', '300g']"
      ]
     },
     "execution_count": 6,
     "metadata": {},
     "output_type": "execute_result"
    }
   ],
   "source": [
    "recipie = [\"375g flour\",\"75g sugar\",\"250g butter\",\"300g bread\"]\n",
    "# get me the list of weight and list of ingredients\n",
    "weights = [x.split(\" \")[0] for x in recipie] \n",
    "ingredients = [x.split(\" \")[1] for x in recipie]\n"
   ]
  },
  {
   "cell_type": "code",
   "execution_count": 7,
   "id": "1b4c224f",
   "metadata": {},
   "outputs": [
    {
     "data": {
      "text/plain": [
       "['375g', '75g', '250g', '300g']"
      ]
     },
     "execution_count": 7,
     "metadata": {},
     "output_type": "execute_result"
    }
   ],
   "source": [
    "weights"
   ]
  },
  {
   "cell_type": "code",
   "execution_count": 8,
   "id": "a35b3041",
   "metadata": {},
   "outputs": [
    {
     "data": {
      "text/plain": [
       "['flour', 'sugar', 'butter', 'bread']"
      ]
     },
     "execution_count": 8,
     "metadata": {},
     "output_type": "execute_result"
    }
   ],
   "source": [
    "ingredients"
   ]
  },
  {
   "cell_type": "code",
   "execution_count": 10,
   "id": "b8c369cd",
   "metadata": {},
   "outputs": [],
   "source": [
    "a = ['a','d','c','b']\n",
    "a.sort()"
   ]
  },
  {
   "cell_type": "code",
   "execution_count": 11,
   "id": "649e338c",
   "metadata": {},
   "outputs": [
    {
     "data": {
      "text/plain": [
       "['a', 'b', 'c', 'd']"
      ]
     },
     "execution_count": 11,
     "metadata": {},
     "output_type": "execute_result"
    }
   ],
   "source": [
    "a"
   ]
  },
  {
   "cell_type": "markdown",
   "id": "af226558",
   "metadata": {},
   "source": [
    "### enumerate"
   ]
  },
  {
   "cell_type": "code",
   "execution_count": null,
   "id": "ef59c042",
   "metadata": {},
   "outputs": [
    {
     "name": "stdout",
     "output_type": "stream",
     "text": [
      "index, 0 value Ronu\n",
      "index, 1 value Ravi\n",
      "index, 2 value Rohit\n",
      "index, 3 value Ramesh\n"
     ]
    }
   ],
   "source": [
    "# using .format\n",
    "a = ['Ronu', 'Ravi', 'Rohit', 'Ramesh']\n",
    "for index,value in enumerate(a):\n",
    "    print(\"index, {} value {}\".format(index,value))"
   ]
  },
  {
   "cell_type": "code",
   "execution_count": null,
   "id": "061c3d62",
   "metadata": {},
   "outputs": [
    {
     "name": "stdout",
     "output_type": "stream",
     "text": [
      "INDEX: 0, VALUE: Ronu\n",
      "INDEX: 1, VALUE: Ravi\n",
      "INDEX: 2, VALUE: Rohit\n",
      "INDEX: 3, VALUE: Ramesh\n"
     ]
    }
   ],
   "source": [
    "# using dot notation\n",
    "a = [\"Ronu\", \"Ravi\", \"Rohit\", \"Ramesh\"]\n",
    "for index,value in enumerate(a):\n",
    "    print(f\"INDEX: {index}, VALUE: {value}\")"
   ]
  },
  {
   "cell_type": "markdown",
   "id": "9d02397b",
   "metadata": {},
   "source": [
    "### map function:"
   ]
  },
  {
   "cell_type": "markdown",
   "id": "f79214a4",
   "metadata": {},
   "source": [
    "#### create another list with a square of numbers"
   ]
  },
  {
   "cell_type": "code",
   "execution_count": 20,
   "id": "d38d0806",
   "metadata": {},
   "outputs": [],
   "source": [
    "numbers = [1,2,3,4,5,6]\n",
    "new_list = []"
   ]
  },
  {
   "cell_type": "code",
   "execution_count": null,
   "id": "46d6150b",
   "metadata": {},
   "outputs": [
    {
     "data": {
      "text/plain": [
       "[1.0, 4.0, 9.0, 16.0, 25.0, 36.0]"
      ]
     },
     "execution_count": 22,
     "metadata": {},
     "output_type": "execute_result"
    }
   ],
   "source": [
    "# Normal method\n",
    "import math\n",
    "for i in numbers:\n",
    "    s = math.pow(i,2)\n",
    "    new_list.append(s)\n",
    "new_list"
   ]
  },
  {
   "cell_type": "code",
   "execution_count": null,
   "id": "4a7fec2d",
   "metadata": {},
   "outputs": [],
   "source": [
    "import math\n",
    "numbers = [1,2,3,4,5,6]\n",
    "def square_numnbers(x):\n",
    "    return math.pow(x,2)"
   ]
  },
  {
   "cell_type": "code",
   "execution_count": null,
   "id": "1267b758",
   "metadata": {},
   "outputs": [
    {
     "data": {
      "text/plain": [
       "[1.0, 4.0, 9.0, 16.0, 25.0, 36.0]"
      ]
     },
     "execution_count": 25,
     "metadata": {},
     "output_type": "execute_result"
    }
   ],
   "source": [
    "# using map\n",
    "\n",
    "squared_numbers = list(map(square_numnbers,numbers))\n",
    "squared_numbers"
   ]
  },
  {
   "cell_type": "code",
   "execution_count": 26,
   "id": "82f50ed3",
   "metadata": {},
   "outputs": [
    {
     "data": {
      "text/plain": [
       "[1.0, 4.0, 9.0, 16.0, 25.0, 36.0]"
      ]
     },
     "execution_count": 26,
     "metadata": {},
     "output_type": "execute_result"
    }
   ],
   "source": [
    "sn = map(lambda x: math.pow(x,2),numbers)\n",
    "squared_numbers = list(sn)\n",
    "squared_numbers"
   ]
  },
  {
   "cell_type": "markdown",
   "id": "ae10faa9",
   "metadata": {},
   "source": [
    "### filter function:"
   ]
  },
  {
   "cell_type": "code",
   "execution_count": 29,
   "id": "6d5ce084",
   "metadata": {},
   "outputs": [
    {
     "data": {
      "text/plain": [
       "[2, 6, 18, 20, 34, 16, 92, 90]"
      ]
     },
     "execution_count": 29,
     "metadata": {},
     "output_type": "execute_result"
    }
   ],
   "source": [
    "## filter out those which are odd:\n",
    "\n",
    "a = [2,6,18,20,21,34,15,16,92,31,27,81,45,67,89,90]\n",
    "def is_even(x):\n",
    "    return x % 2 == 0\n",
    "\n",
    "even_numbers = list(filter(is_even,a))\n",
    "even_numbers"
   ]
  },
  {
   "cell_type": "code",
   "execution_count": 30,
   "id": "45e89d9f",
   "metadata": {},
   "outputs": [
    {
     "data": {
      "text/plain": [
       "[2, 6, 18, 20, 34, 16, 92, 90]"
      ]
     },
     "execution_count": 30,
     "metadata": {},
     "output_type": "execute_result"
    }
   ],
   "source": [
    "a  = list(filter(lambda x: x%2 ==0,a))\n",
    "a"
   ]
  },
  {
   "cell_type": "markdown",
   "id": "5f51d799",
   "metadata": {},
   "source": [
    "## ZIP function"
   ]
  },
  {
   "cell_type": "code",
   "execution_count": 32,
   "id": "52e359e9",
   "metadata": {},
   "outputs": [
    {
     "data": {
      "text/plain": [
       "[(1, 5), (2, 6), (3, 7), (4, 8)]"
      ]
     },
     "execution_count": 32,
     "metadata": {},
     "output_type": "execute_result"
    }
   ],
   "source": [
    "a = [1,2,3,4]\n",
    "b = [5,6,7,8]\n",
    "d = list(zip(a,b))\n",
    "d"
   ]
  },
  {
   "cell_type": "code",
   "execution_count": 33,
   "id": "304cbca3",
   "metadata": {},
   "outputs": [
    {
     "name": "stdout",
     "output_type": "stream",
     "text": [
      "(1, 5)\n",
      "(2, 6)\n",
      "(3, 7)\n",
      "(4, 8)\n"
     ]
    }
   ],
   "source": [
    "for i in d:\n",
    "    print(i)"
   ]
  },
  {
   "cell_type": "markdown",
   "id": "7f3e2dc3",
   "metadata": {},
   "source": [
    "### add each element of the coresponding element of b"
   ]
  },
  {
   "cell_type": "code",
   "execution_count": 34,
   "id": "4478f288",
   "metadata": {},
   "outputs": [
    {
     "data": {
      "text/plain": [
       "[6, 8, 10, 12]"
      ]
     },
     "execution_count": 34,
     "metadata": {},
     "output_type": "execute_result"
    }
   ],
   "source": [
    "\n",
    "c = []\n",
    "for i in zip(a,b):\n",
    "    b = c.append(list(i)[0] + list(i)[1])\n",
    "c\n",
    "\n",
    "\n"
   ]
  },
  {
   "cell_type": "markdown",
   "id": "c8d4ec01",
   "metadata": {},
   "source": [
    "### different length variables"
   ]
  },
  {
   "cell_type": "code",
   "execution_count": 39,
   "id": "ab23bf52",
   "metadata": {},
   "outputs": [
    {
     "data": {
      "text/plain": [
       "[('a', 'a'), ('d', 'b'), ('c', 'c'), ('b', 'NA')]"
      ]
     },
     "execution_count": 39,
     "metadata": {},
     "output_type": "execute_result"
    }
   ],
   "source": [
    "a = ['a','d','c','b']\n",
    "b = ['a','b','c']\n",
    "\n",
    "from itertools import zip_longest\n",
    "d = list(zip_longest(a,b,fillvalue = 'NA'))\n",
    "d"
   ]
  },
  {
   "cell_type": "code",
   "execution_count": 40,
   "id": "7022c3d6",
   "metadata": {},
   "outputs": [
    {
     "data": {
      "text/plain": [
       "[('a', 'a'), ('d', 'b'), ('c', 'c'), ('b', None)]"
      ]
     },
     "execution_count": 40,
     "metadata": {},
     "output_type": "execute_result"
    }
   ],
   "source": [
    "d = list(zip_longest(a,b, fillvalue=None))\n",
    "d"
   ]
  },
  {
   "cell_type": "markdown",
   "id": "38209fb0",
   "metadata": {},
   "source": [
    "### unpacking zip"
   ]
  },
  {
   "cell_type": "code",
   "execution_count": 43,
   "id": "a3b68d69",
   "metadata": {},
   "outputs": [
    {
     "data": {
      "text/plain": [
       "[('a', 'd', 'c', 'b'), ('a', 'b', 'c', None)]"
      ]
     },
     "execution_count": 43,
     "metadata": {},
     "output_type": "execute_result"
    }
   ],
   "source": [
    "e = list(zip(*d))\n",
    "e"
   ]
  },
  {
   "cell_type": "code",
   "execution_count": 44,
   "id": "03f25041",
   "metadata": {},
   "outputs": [
    {
     "data": {
      "text/plain": [
       "[('a', 'a'), ('d', 'b'), ('c', 'c'), ('b', 'NA')]"
      ]
     },
     "execution_count": 44,
     "metadata": {},
     "output_type": "execute_result"
    }
   ],
   "source": [
    "a = ['a','d','c','b']\n",
    "b = ['a','b','c']\n",
    "\n",
    "x = list(zip_longest(a,b,fillvalue = 'NA'))\n",
    "\n",
    "x"
   ]
  },
  {
   "cell_type": "code",
   "execution_count": 46,
   "id": "1bae5807",
   "metadata": {},
   "outputs": [
    {
     "data": {
      "text/plain": [
       "[('a', 'd', 'c', 'b'), ('a', 'b', 'c', 'NA')]"
      ]
     },
     "execution_count": 46,
     "metadata": {},
     "output_type": "execute_result"
    }
   ],
   "source": [
    "xy = list(zip(*x))\n",
    "xy"
   ]
  },
  {
   "cell_type": "markdown",
   "id": "92e500ea",
   "metadata": {},
   "source": [
    "### zip with dictionary"
   ]
  },
  {
   "cell_type": "code",
   "execution_count": 48,
   "id": "7207349e",
   "metadata": {},
   "outputs": [
    {
     "data": {
      "text/plain": [
       "{'Name': 'Alice', 'Age': 30, 'City': 'New York'}"
      ]
     },
     "execution_count": 48,
     "metadata": {},
     "output_type": "execute_result"
    }
   ],
   "source": [
    "keys = ['Name', 'Age', 'City']\n",
    "values = ['Alice', 30, 'New York']\n",
    "dic = dict(zip(keys,values))\n",
    "dic"
   ]
  },
  {
   "cell_type": "markdown",
   "id": "fc43bc0f",
   "metadata": {},
   "source": [
    "### convert the tuple into equivalent lists"
   ]
  },
  {
   "cell_type": "code",
   "execution_count": 49,
   "id": "2a1ed279",
   "metadata": {},
   "outputs": [
    {
     "data": {
      "text/plain": [
       "(('a', 'a'), ('d', 'b'), ('c', 'c'), ('b', 'NA'))"
      ]
     },
     "execution_count": 49,
     "metadata": {},
     "output_type": "execute_result"
    }
   ],
   "source": [
    "t = (('a', 'a'), ('d', 'b'), ('c', 'c'), ('b', 'NA'))\n",
    "t"
   ]
  },
  {
   "cell_type": "code",
   "execution_count": 50,
   "id": "d52e19e0",
   "metadata": {},
   "outputs": [
    {
     "data": {
      "text/plain": [
       "tuple"
      ]
     },
     "execution_count": 50,
     "metadata": {},
     "output_type": "execute_result"
    }
   ],
   "source": [
    "type(t)"
   ]
  },
  {
   "cell_type": "code",
   "execution_count": 51,
   "id": "c8c5a925",
   "metadata": {},
   "outputs": [
    {
     "data": {
      "text/plain": [
       "[('a', 'a'), ('d', 'b'), ('c', 'c'), ('b', 'NA')]"
      ]
     },
     "execution_count": 51,
     "metadata": {},
     "output_type": "execute_result"
    }
   ],
   "source": [
    "l = list(t)\n",
    "l"
   ]
  },
  {
   "cell_type": "code",
   "execution_count": 52,
   "id": "97e43679",
   "metadata": {},
   "outputs": [
    {
     "data": {
      "text/plain": [
       "[('a', 'd', 'c', 'b'), ('a', 'b', 'c', 'NA')]"
      ]
     },
     "execution_count": 52,
     "metadata": {},
     "output_type": "execute_result"
    }
   ],
   "source": [
    "u = list(zip(*l))\n",
    "u"
   ]
  },
  {
   "cell_type": "code",
   "execution_count": 54,
   "id": "2ecf8ecb",
   "metadata": {},
   "outputs": [
    {
     "data": {
      "text/plain": [
       "['a', 'd', 'c', 'b']"
      ]
     },
     "execution_count": 54,
     "metadata": {},
     "output_type": "execute_result"
    }
   ],
   "source": [
    "l_a = list(u[0])\n",
    "l_a"
   ]
  },
  {
   "cell_type": "code",
   "execution_count": 55,
   "id": "d915e362",
   "metadata": {},
   "outputs": [
    {
     "data": {
      "text/plain": [
       "['a', 'b', 'c', 'NA']"
      ]
     },
     "execution_count": 55,
     "metadata": {},
     "output_type": "execute_result"
    }
   ],
   "source": [
    "l_b = list(u[1])\n",
    "l_b\n"
   ]
  },
  {
   "cell_type": "code",
   "execution_count": 56,
   "id": "b3fbb6f4",
   "metadata": {},
   "outputs": [],
   "source": [
    "import numpy as np"
   ]
  },
  {
   "cell_type": "code",
   "execution_count": 58,
   "id": "4ab21d35",
   "metadata": {},
   "outputs": [],
   "source": [
    "# lets try replacing na with nan\n",
    "l_b = [np.nan if x == 'NA' else x for x in l_b]\n"
   ]
  },
  {
   "cell_type": "code",
   "execution_count": 59,
   "id": "ec6277d7",
   "metadata": {},
   "outputs": [
    {
     "data": {
      "text/plain": [
       "['a', 'b', 'c', nan]"
      ]
     },
     "execution_count": 59,
     "metadata": {},
     "output_type": "execute_result"
    }
   ],
   "source": [
    "l_b"
   ]
  },
  {
   "cell_type": "code",
   "execution_count": null,
   "id": "6b69a95a",
   "metadata": {},
   "outputs": [],
   "source": []
  }
 ],
 "metadata": {
  "kernelspec": {
   "display_name": "base",
   "language": "python",
   "name": "python3"
  },
  "language_info": {
   "codemirror_mode": {
    "name": "ipython",
    "version": 3
   },
   "file_extension": ".py",
   "mimetype": "text/x-python",
   "name": "python",
   "nbconvert_exporter": "python",
   "pygments_lexer": "ipython3",
   "version": "3.12.7"
  }
 },
 "nbformat": 4,
 "nbformat_minor": 5
}
