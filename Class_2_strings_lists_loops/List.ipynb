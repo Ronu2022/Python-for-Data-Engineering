{
 "cells": [
  {
   "cell_type": "code",
   "execution_count": 4,
   "id": "db980bb2",
   "metadata": {},
   "outputs": [
    {
     "data": {
      "text/plain": [
       "'CSK'"
      ]
     },
     "execution_count": 4,
     "metadata": {},
     "output_type": "execute_result"
    }
   ],
   "source": [
    "ipl_team1 = 'Csk'\n",
    "ipl_team2 = \"MI\"\n",
    "ipl = [\"CSK\", \"MI\", \"RCB\", \"KKR\", \"SRH\", \"DC\", \"RR\", \"PBKS\"]\n",
    "ipl[0]"
   ]
  },
  {
   "cell_type": "code",
   "execution_count": 5,
   "id": "05ee1eea",
   "metadata": {},
   "outputs": [
    {
     "data": {
      "text/plain": [
       "'MI'"
      ]
     },
     "execution_count": 5,
     "metadata": {},
     "output_type": "execute_result"
    }
   ],
   "source": [
    "ipl = [\"CSK\", \"MI\", \"RCB\", \"KKR\", \"SRH\", \"DC\", \"RR\", \"PBKS\"]\n",
    "ipl[1]"
   ]
  },
  {
   "cell_type": "code",
   "execution_count": 6,
   "id": "0f3963a5",
   "metadata": {},
   "outputs": [
    {
     "data": {
      "text/plain": [
       "['CSK', 'MI', 'RCB', 'KKR', 'SRH', 'DC', 'RR', 'PBKS']"
      ]
     },
     "execution_count": 6,
     "metadata": {},
     "output_type": "execute_result"
    }
   ],
   "source": [
    "ipl = [\"CSK\", \"MI\", \"RCB\", \"KKR\", \"SRH\", \"DC\", \"RR\", \"PBKS\"]\n",
    "ipl[0:]"
   ]
  },
  {
   "cell_type": "code",
   "execution_count": 7,
   "id": "bdf3267e",
   "metadata": {},
   "outputs": [
    {
     "data": {
      "text/plain": [
       "str"
      ]
     },
     "execution_count": 7,
     "metadata": {},
     "output_type": "execute_result"
    }
   ],
   "source": [
    "ipl = [\"CSK\", \"MI\", \"RCB\", \"KKR\", \"SRH\", \"DC\", \"RR\", \"PBKS\"]\n",
    "type(ipl[0])"
   ]
  },
  {
   "cell_type": "code",
   "execution_count": null,
   "id": "686537d7",
   "metadata": {},
   "outputs": [],
   "source": []
  },
  {
   "cell_type": "code",
   "execution_count": null,
   "id": "f2a4c8dd",
   "metadata": {},
   "outputs": [],
   "source": []
  }
 ],
 "metadata": {
  "kernelspec": {
   "display_name": "base",
   "language": "python",
   "name": "python3"
  },
  "language_info": {
   "codemirror_mode": {
    "name": "ipython",
    "version": 3
   },
   "file_extension": ".py",
   "mimetype": "text/x-python",
   "name": "python",
   "nbconvert_exporter": "python",
   "pygments_lexer": "ipython3",
   "version": "3.12.7"
  }
 },
 "nbformat": 4,
 "nbformat_minor": 5
}
