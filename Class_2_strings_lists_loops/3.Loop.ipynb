{
 "cells": [
  {
   "cell_type": "code",
   "execution_count": 1,
   "id": "bdb8bd79",
   "metadata": {},
   "outputs": [
    {
     "name": "stdout",
     "output_type": "stream",
     "text": [
      "CSK\n",
      "MI\n",
      "RCB\n",
      "KKR\n",
      "SRH\n",
      "DC\n",
      "RR\n",
      "PBKS\n"
     ]
    }
   ],
   "source": [
    "ipl = [\"CSK\", \"MI\", \"RCB\", \"KKR\", \"SRH\", \"DC\", \"RR\", \"PBKS\"]\n",
    "for i in ipl:\n",
    "    print(i)"
   ]
  },
  {
   "cell_type": "markdown",
   "id": "a50f3a3f",
   "metadata": {},
   "source": [
    "## Range"
   ]
  },
  {
   "cell_type": "code",
   "execution_count": 2,
   "id": "89d8e71a",
   "metadata": {},
   "outputs": [
    {
     "name": "stdout",
     "output_type": "stream",
     "text": [
      "0\n",
      "1\n",
      "2\n",
      "3\n",
      "4\n",
      "5\n",
      "6\n"
     ]
    }
   ],
   "source": [
    "for n in range(7):\n",
    "    print(n)"
   ]
  },
  {
   "cell_type": "code",
   "execution_count": 3,
   "id": "cc1b0a99",
   "metadata": {},
   "outputs": [
    {
     "name": "stdout",
     "output_type": "stream",
     "text": [
      "1\n",
      "3\n",
      "5\n",
      "7\n",
      "9\n"
     ]
    }
   ],
   "source": [
    "for i in range(1,11,2):\n",
    "    print(i)"
   ]
  },
  {
   "cell_type": "code",
   "execution_count": 4,
   "id": "656f8b51",
   "metadata": {},
   "outputs": [
    {
     "name": "stdout",
     "output_type": "stream",
     "text": [
      "1\n",
      "4\n",
      "7\n",
      "10\n"
     ]
    }
   ],
   "source": [
    "for i in range(1,11,3):\n",
    "    print(i)"
   ]
  },
  {
   "cell_type": "markdown",
   "id": "2d695018",
   "metadata": {},
   "source": [
    "### write a code to generate email id of these using range"
   ]
  },
  {
   "cell_type": "code",
   "execution_count": 5,
   "id": "61f1204e",
   "metadata": {},
   "outputs": [],
   "source": [
    "ipl = [\"CSK\", \"MI\", \"RCB\", \"KKR\", \"SRH\", \"DC\", \"RR\", \"PBKS\"]\n"
   ]
  },
  {
   "cell_type": "code",
   "execution_count": 7,
   "id": "8ceb6196",
   "metadata": {},
   "outputs": [
    {
     "name": "stdout",
     "output_type": "stream",
     "text": [
      "CSK@ipl.com\n",
      "MI@ipl.com\n",
      "RCB@ipl.com\n",
      "KKR@ipl.com\n",
      "SRH@ipl.com\n",
      "DC@ipl.com\n",
      "RR@ipl.com\n",
      "PBKS@ipl.com\n"
     ]
    }
   ],
   "source": [
    "for i in range(len(ipl)):\n",
    "    add_on = \"@\"\n",
    "    email = ipl[i] + add_on + \"ipl.com\"\n",
    "    print(email)"
   ]
  },
  {
   "cell_type": "code",
   "execution_count": null,
   "id": "15ad83f5",
   "metadata": {},
   "outputs": [],
   "source": [
    "##"
   ]
  }
 ],
 "metadata": {
  "kernelspec": {
   "display_name": "base",
   "language": "python",
   "name": "python3"
  },
  "language_info": {
   "codemirror_mode": {
    "name": "ipython",
    "version": 3
   },
   "file_extension": ".py",
   "mimetype": "text/x-python",
   "name": "python",
   "nbconvert_exporter": "python",
   "pygments_lexer": "ipython3",
   "version": "3.12.7"
  }
 },
 "nbformat": 4,
 "nbformat_minor": 5
}
