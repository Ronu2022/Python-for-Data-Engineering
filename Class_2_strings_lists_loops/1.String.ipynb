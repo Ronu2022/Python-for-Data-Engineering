{
 "cells": [
  {
   "cell_type": "markdown",
   "id": "940a9585",
   "metadata": {},
   "source": [
    "# Strings:"
   ]
  },
  {
   "cell_type": "code",
   "execution_count": 1,
   "id": "1b54a0ad",
   "metadata": {},
   "outputs": [
    {
     "data": {
      "text/plain": [
       "'Ronu'"
      ]
     },
     "execution_count": 1,
     "metadata": {},
     "output_type": "execute_result"
    }
   ],
   "source": [
    "a = \"Ronu\"\n",
    "a"
   ]
  },
  {
   "cell_type": "code",
   "execution_count": 3,
   "id": "76f92a74",
   "metadata": {},
   "outputs": [
    {
     "data": {
      "text/plain": [
       "str"
      ]
     },
     "execution_count": 3,
     "metadata": {},
     "output_type": "execute_result"
    }
   ],
   "source": [
    "type(a)"
   ]
  },
  {
   "cell_type": "markdown",
   "id": "429b3605",
   "metadata": {},
   "source": [
    "# String Methods:"
   ]
  },
  {
   "cell_type": "markdown",
   "id": "9a8a83f0",
   "metadata": {},
   "source": [
    "### capitalize():"
   ]
  },
  {
   "cell_type": "code",
   "execution_count": 4,
   "id": "71d7c93a",
   "metadata": {},
   "outputs": [
    {
     "data": {
      "text/plain": [
       "'Ronu'"
      ]
     },
     "execution_count": 4,
     "metadata": {},
     "output_type": "execute_result"
    }
   ],
   "source": [
    "a = \"ronu\"\n",
    "a.capitalize() # capitalize the first letter"
   ]
  },
  {
   "cell_type": "markdown",
   "id": "58d40f76",
   "metadata": {},
   "source": [
    "### lower()\n"
   ]
  },
  {
   "cell_type": "code",
   "execution_count": 5,
   "id": "fbc12f95",
   "metadata": {},
   "outputs": [
    {
     "data": {
      "text/plain": [
       "'ronu'"
      ]
     },
     "execution_count": 5,
     "metadata": {},
     "output_type": "execute_result"
    }
   ],
   "source": [
    "a = \"ronu\"\n",
    "a.lower()"
   ]
  },
  {
   "cell_type": "markdown",
   "id": "5d1baf6d",
   "metadata": {},
   "source": [
    "### partition"
   ]
  },
  {
   "cell_type": "code",
   "execution_count": 7,
   "id": "fea377a2",
   "metadata": {},
   "outputs": [
    {
     "data": {
      "text/plain": [
       "('I ', 'love', ' my country')"
      ]
     },
     "execution_count": 7,
     "metadata": {},
     "output_type": "execute_result"
    }
   ],
   "source": [
    "a = \"I love my country\"\n",
    "a.partition(\"love\") # partition the string into three parts: before, separator, and after"
   ]
  },
  {
   "cell_type": "markdown",
   "id": "9e2346f8",
   "metadata": {},
   "source": [
    "### replace:"
   ]
  },
  {
   "cell_type": "code",
   "execution_count": 8,
   "id": "5ecb4a6b",
   "metadata": {},
   "outputs": [
    {
     "data": {
      "text/plain": [
       "'we love our country'"
      ]
     },
     "execution_count": 8,
     "metadata": {},
     "output_type": "execute_result"
    }
   ],
   "source": [
    "a = \"I love my country\"\n",
    "a.replace(\"I\",\"we\").replace(\"my\",\"our\")"
   ]
  },
  {
   "cell_type": "markdown",
   "id": "26b4f06a",
   "metadata": {},
   "source": [
    "#### using a dictionary to replace:"
   ]
  },
  {
   "cell_type": "code",
   "execution_count": 17,
   "id": "fb457639",
   "metadata": {},
   "outputs": [
    {
     "name": "stdout",
     "output_type": "stream",
     "text": [
      "We love our country\n"
     ]
    }
   ],
   "source": [
    "string = \"I love my country\"\n",
    "# replace \"my\" with \"our\" and \"I\" with \"we\"\n",
    "dic = {\"I\": \"We\",\"my\": \"our\"}\n",
    "for old,new in dic.items():\n",
    "    string = string.replace(old,new)\n",
    "print(string)"
   ]
  },
  {
   "cell_type": "code",
   "execution_count": 18,
   "id": "aeef2601",
   "metadata": {},
   "outputs": [
    {
     "data": {
      "text/plain": [
       "dict_items([('I', 'We'), ('my', 'our')])"
      ]
     },
     "execution_count": 18,
     "metadata": {},
     "output_type": "execute_result"
    }
   ],
   "source": [
    "dic = {\"I\": \"We\",\"my\": \"our\"}\n",
    "dic.items() # returns a view object that displays a list of a dictionary's key-value tuple pairs"
   ]
  },
  {
   "cell_type": "code",
   "execution_count": 19,
   "id": "b42cd889",
   "metadata": {},
   "outputs": [
    {
     "data": {
      "text/plain": [
       "dict_values(['We', 'our'])"
      ]
     },
     "execution_count": 19,
     "metadata": {},
     "output_type": "execute_result"
    }
   ],
   "source": [
    "dic = {\"I\": \"We\",\"my\": \"our\"}\n",
    "dic.values() # returns a view object that displays a list of all the values in the dictionary"
   ]
  },
  {
   "cell_type": "markdown",
   "id": "4b970000",
   "metadata": {},
   "source": [
    "### strip:"
   ]
  },
  {
   "cell_type": "code",
   "execution_count": 9,
   "id": "c1f87fef",
   "metadata": {},
   "outputs": [
    {
     "data": {
      "text/plain": [
       "'I love my country'"
      ]
     },
     "execution_count": 9,
     "metadata": {},
     "output_type": "execute_result"
    }
   ],
   "source": [
    "a = \"I love my country  \"\n",
    "a.strip()"
   ]
  },
  {
   "cell_type": "code",
   "execution_count": 10,
   "id": "3490585d",
   "metadata": {},
   "outputs": [
    {
     "data": {
      "text/plain": [
       "'   Hello world!  '"
      ]
     },
     "execution_count": 10,
     "metadata": {},
     "output_type": "execute_result"
    }
   ],
   "source": [
    "a = \"   Hello world!  \"\n",
    "a"
   ]
  },
  {
   "cell_type": "code",
   "execution_count": 11,
   "id": "f34b435b",
   "metadata": {},
   "outputs": [
    {
     "data": {
      "text/plain": [
       "'Hello world!'"
      ]
     },
     "execution_count": 11,
     "metadata": {},
     "output_type": "execute_result"
    }
   ],
   "source": [
    "a.strip()"
   ]
  },
  {
   "cell_type": "markdown",
   "id": "912366dd",
   "metadata": {},
   "source": [
    "### count"
   ]
  },
  {
   "cell_type": "code",
   "execution_count": 12,
   "id": "cca1a060",
   "metadata": {},
   "outputs": [
    {
     "data": {
      "text/plain": [
       "2"
      ]
     },
     "execution_count": 12,
     "metadata": {},
     "output_type": "execute_result"
    }
   ],
   "source": [
    "### count():\n",
    "a = 'I love my my country' #counts the occurence of a substring\n",
    "a.count('my')\n"
   ]
  },
  {
   "cell_type": "markdown",
   "id": "63c3d46e",
   "metadata": {},
   "source": [
    "### endswith():"
   ]
  },
  {
   "cell_type": "code",
   "execution_count": 13,
   "id": "db64a340",
   "metadata": {},
   "outputs": [
    {
     "data": {
      "text/plain": [
       "False"
      ]
     },
     "execution_count": 13,
     "metadata": {},
     "output_type": "execute_result"
    }
   ],
   "source": [
    "a = \"Ajay\"\n",
    "a.endswith(\"A\")"
   ]
  },
  {
   "cell_type": "markdown",
   "id": "d10eb366",
   "metadata": {},
   "source": [
    "### startswith():"
   ]
  },
  {
   "cell_type": "code",
   "execution_count": 14,
   "id": "6807b427",
   "metadata": {},
   "outputs": [
    {
     "data": {
      "text/plain": [
       "True"
      ]
     },
     "execution_count": 14,
     "metadata": {},
     "output_type": "execute_result"
    }
   ],
   "source": [
    "a = \"Ronu\"\n",
    "a.startswith(\"R\")"
   ]
  },
  {
   "cell_type": "code",
   "execution_count": 15,
   "id": "ddb56b2e",
   "metadata": {},
   "outputs": [
    {
     "data": {
      "text/plain": [
       "7"
      ]
     },
     "execution_count": 15,
     "metadata": {},
     "output_type": "execute_result"
    }
   ],
   "source": [
    "### find():\n",
    "a = \"I love my country\"\n",
    "a.find(\"my\",0,10)"
   ]
  },
  {
   "cell_type": "code",
   "execution_count": 16,
   "id": "15022e46",
   "metadata": {},
   "outputs": [
    {
     "data": {
      "text/plain": [
       "17"
      ]
     },
     "execution_count": 16,
     "metadata": {},
     "output_type": "execute_result"
    }
   ],
   "source": [
    "len(a)"
   ]
  },
  {
   "cell_type": "markdown",
   "id": "e521a67c",
   "metadata": {},
   "source": [
    "### sub():"
   ]
  },
  {
   "cell_type": "code",
   "execution_count": 20,
   "id": "6358e75f",
   "metadata": {},
   "outputs": [
    {
     "data": {
      "text/plain": [
       "'The prices are invalid, invalid,54'"
      ]
     },
     "execution_count": 20,
     "metadata": {},
     "output_type": "execute_result"
    }
   ],
   "source": [
    "text = \"The prices are 12.34, 45.66,54\"\n",
    "# If there is a decimal number replace it with 'invalid'\n",
    "import re\n",
    "# text = re.sub(pattern,replacement,string)\n",
    "pattern = r'\\d+\\.\\d+'\n",
    "replacement = 'invalid'\n",
    "text_new = re.sub(pattern,replacement,text)\n",
    "text_new\n",
    "\n",
    "\n"
   ]
  },
  {
   "cell_type": "code",
   "execution_count": 21,
   "id": "16770d93",
   "metadata": {},
   "outputs": [
    {
     "data": {
      "text/plain": [
       "0"
      ]
     },
     "execution_count": 21,
     "metadata": {},
     "output_type": "execute_result"
    }
   ],
   "source": [
    "text = \"The prices are 12.34, 45.66,54\"\n",
    "text.find(\"The\",0,10)"
   ]
  },
  {
   "cell_type": "code",
   "execution_count": null,
   "id": "5cc455b8",
   "metadata": {},
   "outputs": [],
   "source": []
  }
 ],
 "metadata": {
  "kernelspec": {
   "display_name": "base",
   "language": "python",
   "name": "python3"
  },
  "language_info": {
   "codemirror_mode": {
    "name": "ipython",
    "version": 3
   },
   "file_extension": ".py",
   "mimetype": "text/x-python",
   "name": "python",
   "nbconvert_exporter": "python",
   "pygments_lexer": "ipython3",
   "version": "3.12.7"
  }
 },
 "nbformat": 4,
 "nbformat_minor": 5
}
