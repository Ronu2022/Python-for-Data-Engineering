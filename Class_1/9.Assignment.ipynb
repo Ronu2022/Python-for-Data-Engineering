{
 "cells": [
  {
   "cell_type": "markdown",
   "id": "77366e0e",
   "metadata": {},
   "source": [
    "1- write a program which takes 3 inputs from user as principle amount (int) and rate of annual interest (float) and total tenure (in years). write a program to print total amount value at the end fo the tenure\n",
    "\n",
    "example : principle : 100 , interest percent 8 , tenure = 2  then amount will be : 100*1.08*1.08 = 116.64"
   ]
  },
  {
   "cell_type": "code",
   "execution_count": 4,
   "id": "1c4ff294",
   "metadata": {},
   "outputs": [
    {
     "name": "stdout",
     "output_type": "stream",
     "text": [
      "The Simple interest is: 1500000.0\n"
     ]
    }
   ],
   "source": [
    "p = float(input(\"enter the Principal amount: \"))\n",
    "r = float(input(\"enter the rate of interest: \"))\n",
    "t = float(input(\"enter the time in years: \"))\n",
    "si = (p*r*t)/100\n",
    "print(\"The Simple interest is: {}\".format(si))\n"
   ]
  },
  {
   "cell_type": "markdown",
   "id": "d90305cb",
   "metadata": {},
   "source": [
    "2- Odd or Even : Ask the user to enter a number. Print whether the number is even or odd."
   ]
  },
  {
   "cell_type": "code",
   "execution_count": 5,
   "id": "30153c58",
   "metadata": {},
   "outputs": [],
   "source": [
    "def check_even_or_odd(num):\n",
    "    if num % 2 == 0:\n",
    "        return \"Even\"\n",
    "    else:\n",
    "        return \"Odd\""
   ]
  },
  {
   "cell_type": "code",
   "execution_count": 9,
   "id": "f8c8b6fb",
   "metadata": {},
   "outputs": [
    {
     "name": "stdout",
     "output_type": "stream",
     "text": [
      "The number is: Even\n"
     ]
    }
   ],
   "source": [
    "a = int(input(\"enter a number you want to check:\" ))\n",
    "print(\"The number is: {}\".format(check_even_or_odd(a)))\n"
   ]
  },
  {
   "cell_type": "markdown",
   "id": "4f944e82",
   "metadata": {},
   "source": [
    "3- Check for Prime Number or Not"
   ]
  },
  {
   "cell_type": "code",
   "execution_count": 19,
   "id": "b82a430e",
   "metadata": {},
   "outputs": [],
   "source": [
    "def check_prime(num):\n",
    "    if num <=1:\n",
    "        return \"not prime\"\n",
    "    sr_f = math.floor(math.sqrt(num))\n",
    "    for i in range(2,sr_f + 1):\n",
    "        if num % i == 0:\n",
    "            break\n",
    "    else:\n",
    "        return \"Prime\"\n",
    "    return \"Not Prime\""
   ]
  },
  {
   "cell_type": "code",
   "execution_count": 21,
   "id": "51354300",
   "metadata": {},
   "outputs": [
    {
     "data": {
      "text/plain": [
       "'Not Prime'"
      ]
     },
     "execution_count": 21,
     "metadata": {},
     "output_type": "execute_result"
    }
   ],
   "source": [
    "b = check_prime(1149)\n",
    "b\n"
   ]
  },
  {
   "cell_type": "markdown",
   "id": "9aa6abe0",
   "metadata": {},
   "source": [
    "4- Ask the user to enter their age. If age is:\n",
    "\n",
    "less than 13 → print \"Child\"\n",
    "\n",
    "between 13 and 19 → print \"Teenager\"\n",
    "\n",
    "20 or more → print \"Adult\""
   ]
  },
  {
   "cell_type": "code",
   "execution_count": 24,
   "id": "a3adb805",
   "metadata": {},
   "outputs": [
    {
     "name": "stdout",
     "output_type": "stream",
     "text": [
      "Adult.\n"
     ]
    }
   ],
   "source": [
    "a = int(input(\"Enter Your Age: \"))\n",
    "if a < 13:\n",
    "    print(\"You are a Child.\")\n",
    "elif 13 <= a <= 19:\n",
    "    PRINT(\"You are a Teenager.\")\n",
    "else:\n",
    "    print(\"Adult.\")"
   ]
  },
  {
   "cell_type": "markdown",
   "id": "aa394a75",
   "metadata": {},
   "source": [
    "5- Create two variables: username = \"admin\" and password = \"1234\".\n",
    "\n",
    "Ask the user to input username and password.\n",
    "\n",
    "If both match, print “Login successful”, else “Invalid credentials”."
   ]
  },
  {
   "cell_type": "code",
   "execution_count": null,
   "id": "c1a8db32",
   "metadata": {},
   "outputs": [
    {
     "name": "stdout",
     "output_type": "stream",
     "text": [
      "Wlecome to the system!\n"
     ]
    }
   ],
   "source": [
    "username = \"admin\"\n",
    "password = 1234\n",
    "u = str(input(\"Enter Your Username: \")).lower()\n",
    "p = int(input(\"Enter Your Password: \"))\n",
    "if u == username and p == password:\n",
    "    print(\"Welcome to the system!\")\n",
    "else:\n",
    "    print(\"invalid Username or Password!\")\n"
   ]
  },
  {
   "cell_type": "code",
   "execution_count": 25,
   "id": "035d9634",
   "metadata": {},
   "outputs": [
    {
     "data": {
      "text/plain": [
       "'ajay'"
      ]
     },
     "execution_count": 25,
     "metadata": {},
     "output_type": "execute_result"
    }
   ],
   "source": [
    "a = \"Ajay\"\n",
    "a.lower()"
   ]
  },
  {
   "cell_type": "markdown",
   "id": "54a59330",
   "metadata": {},
   "source": [
    "6-  Find the Largest Number. Ask the user to enter three numbers a, b ,c with 3 inputs\n",
    "Print the largest among them."
   ]
  },
  {
   "cell_type": "code",
   "execution_count": 33,
   "id": "dff2a305",
   "metadata": {},
   "outputs": [
    {
     "name": "stdout",
     "output_type": "stream",
     "text": [
      "All numbers are equal.\n"
     ]
    }
   ],
   "source": [
    "n1 = int(input(\"Enter the first number: \"))\n",
    "n2 = int(input(\"Enter the second number: \"))\n",
    "n3 = int(input(\"Enter the third number: \"))\n",
    "if (n1 > n2 and n2 > n3) or (n1 > n3 and n3 > n2):\n",
    "    print(\"The Largest number is {}\".format(n1))\n",
    "elif (n2 > n1 and n1 > n2) or (n2 > n3 and n3 > n1):\n",
    "    print(\"The Largest number is {}\".format(n2))\n",
    "elif (n3 > n1 and n1 > n2) or (n3 > n2 and n2 > n1):\n",
    "    print(\"The Largest number is {}\".format(n3))\n",
    "elif n1 == n2 and n2 == n3:\n",
    "    print(\"All numbers are equal.\")\n",
    "else:\n",
    "    print(\"There is no largest number, they are all equal or incomparable.\")\n"
   ]
  },
  {
   "cell_type": "markdown",
   "id": "78dcfa9a",
   "metadata": {},
   "source": [
    "7- Temperature Converter : Ask the user to enter temperature in Celsius\n",
    "\n",
    "Convert it to Fahrenheit using the formula:\n",
    "Fahrenheit = (Celsius × 9/5) + 32\n",
    "\n",
    "Print the result in a user-friendly format, like:\n",
    "\"37°C is equal to 98.6°F\""
   ]
  },
  {
   "cell_type": "code",
   "execution_count": 35,
   "id": "543b5c9f",
   "metadata": {},
   "outputs": [
    {
     "name": "stdout",
     "output_type": "stream",
     "text": [
      "10.0 degree Celcius is equal to 50.0 degree farheinheit\n"
     ]
    }
   ],
   "source": [
    "t = float(input(\"Enter the temperature in Celsius: \"))\n",
    "def celcius_to_fahrenheit(celsius):\n",
    "    return (celsius * 9/5) + 32\n",
    "f = celcius_to_fahrenheit(t)\n",
    "print(\"{} degree Celcius is equal to {} degree farheinheit\".format(t,f))"
   ]
  },
  {
   "cell_type": "markdown",
   "id": "ecfc8c11",
   "metadata": {},
   "source": [
    "8- Number Type Checker : Ask the user to input a number.\n",
    "\n",
    "Print whether it is:\n",
    "\n",
    "Positive\n",
    "\n",
    "Negative\n",
    "\n",
    "Zero"
   ]
  },
  {
   "cell_type": "code",
   "execution_count": 38,
   "id": "0ba15538",
   "metadata": {},
   "outputs": [
    {
     "name": "stdout",
     "output_type": "stream",
     "text": [
      "The number is zero.\n"
     ]
    }
   ],
   "source": [
    "n = int(input(\"Enter a number to be checked: \"))\n",
    "if n > 0:\n",
    "    print(\"The number is positive.\")\n",
    "elif n < 0:\n",
    "    print(\"The number is negative.\")\n",
    "else:\n",
    "    print(\"The number is zero.\")"
   ]
  },
  {
   "cell_type": "markdown",
   "id": "751125fd",
   "metadata": {},
   "source": [
    "9- Password Strength Checker (Basic): Ask the user to enter a password.\n",
    "\n",
    "If the password is:\n",
    "\n",
    "Less than 6 characters → print \"Weak Password\"\n",
    "\n",
    "6–10 characters → print \"Moderate Password\"\n",
    "\n",
    "More than 10 characters → print \"Strong Password\"\n",
    " \n",
    "ps: you can use len function to check the string length ex len(password)"
   ]
  },
  {
   "cell_type": "code",
   "execution_count": 40,
   "id": "853c7726",
   "metadata": {},
   "outputs": [
    {
     "name": "stdout",
     "output_type": "stream",
     "text": [
      "Moderate password.\n"
     ]
    }
   ],
   "source": [
    "p = input(\"enter your password: \")\n",
    "l = len(p)\n",
    "if l < 6:\n",
    "    print(\"Password is too short, it must be at least 6 characters long.\")\n",
    "elif 6 <= l <= 10:\n",
    "    print(\"Moderate password.\")\n",
    "else:\n",
    "    print(\"Strong password.\")"
   ]
  },
  {
   "cell_type": "code",
   "execution_count": null,
   "id": "22b799c9",
   "metadata": {},
   "outputs": [],
   "source": []
  }
 ],
 "metadata": {
  "kernelspec": {
   "display_name": "base",
   "language": "python",
   "name": "python3"
  },
  "language_info": {
   "codemirror_mode": {
    "name": "ipython",
    "version": 3
   },
   "file_extension": ".py",
   "mimetype": "text/x-python",
   "name": "python",
   "nbconvert_exporter": "python",
   "pygments_lexer": "ipython3",
   "version": "3.12.7"
  }
 },
 "nbformat": 4,
 "nbformat_minor": 5
}
